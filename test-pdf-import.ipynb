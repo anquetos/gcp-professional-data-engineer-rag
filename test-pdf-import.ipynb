{
 "cells": [
  {
   "cell_type": "code",
   "execution_count": 1,
   "metadata": {},
   "outputs": [],
   "source": [
    "from pathlib import Path\n",
    "\n",
    "from pypdf import PdfReader"
   ]
  },
  {
   "cell_type": "markdown",
   "metadata": {},
   "source": [
    "## Set pdf file path"
   ]
  },
  {
   "cell_type": "code",
   "execution_count": 2,
   "metadata": {},
   "outputs": [
    {
     "name": "stdout",
     "output_type": "stream",
     "text": [
      "Pdf file path : '/home/anquetos/gcp-professional-data-engineer-rag/pdf/source.pdf'.\n"
     ]
    }
   ],
   "source": [
    "PDF_FILENAME = \"source.pdf\"\n",
    "p = Path()\n",
    "p = p.resolve() / \"pdf\"\n",
    "q = p / PDF_FILENAME\n",
    "\n",
    "if q.is_file(): \n",
    "    print(f\"Pdf file path : '{q}'.\")\n",
    "else:\n",
    "    print(\"No pdf file found.\")"
   ]
  },
  {
   "cell_type": "markdown",
   "metadata": {},
   "source": [
    "## Read pdf"
   ]
  },
  {
   "cell_type": "code",
   "execution_count": 3,
   "metadata": {},
   "outputs": [],
   "source": [
    "reader = PdfReader(q)"
   ]
  },
  {
   "cell_type": "code",
   "execution_count": 4,
   "metadata": {},
   "outputs": [
    {
     "name": "stdout",
     "output_type": "stream",
     "text": [
      "355\n"
     ]
    }
   ],
   "source": [
    "number_of_pages = len(reader.pages)\n",
    "print(number_of_pages)"
   ]
  },
  {
   "cell_type": "markdown",
   "metadata": {},
   "source": [
    "Number of pages corresponds to the number of pages in the original file."
   ]
  },
  {
   "cell_type": "code",
   "execution_count": 5,
   "metadata": {},
   "outputs": [
    {
     "name": "stdout",
     "output_type": "stream",
     "text": [
      "DAN SULLIVAN  \n",
      " \n",
      "Includes interactive online learning  \n",
      "environment and study tools:\n",
      "• 2 custom practice exams\n",
      "• More than 100 electronic flashcards\n",
      "• Searchable key term glossary\n",
      "PROFESS ONALOfficial Google Cloud Certified \n",
      "Professional \n",
      "Data Engineer\n",
      "Study Guide\n"
     ]
    }
   ],
   "source": [
    "page = reader.pages[0]\n",
    "text = page.extract_text()\n",
    "print(text)"
   ]
  },
  {
   "cell_type": "markdown",
   "metadata": {},
   "source": [
    "Page noted as 1 in the pdf file is actually the number 41 of the whole file."
   ]
  },
  {
   "cell_type": "code",
   "execution_count": 6,
   "metadata": {},
   "outputs": [
    {
     "name": "stdout",
     "output_type": "stream",
     "text": [
      "Chapter \n",
      "1\n",
      "Selecting Appropriate \n",
      "Storage Technologies\n",
      "GooGle Cloud ProfeSSionAl dATA \n",
      "enGineer exAm objeCTiveS Covered \n",
      "in ThiS ChAPTer inClude The \n",
      "followinG:\n",
      "1. Designing data processing systems\n",
      " ✓ 1.1 Selecting the appropriate storage technologies\n",
      " ■ Mapping storage systems to business requirements\n",
      " ■ Data modeling\n",
      " ■ Tradeoffs involving latency, throughput, transactions\n",
      " ■ Distributed systems\n",
      " ■ Schema design\n"
     ]
    }
   ],
   "source": [
    "page = reader.pages[40]\n",
    "text = page.extract_text()\n",
    "print(text)"
   ]
  }
 ],
 "metadata": {
  "kernelspec": {
   "display_name": ".venv",
   "language": "python",
   "name": "python3"
  },
  "language_info": {
   "codemirror_mode": {
    "name": "ipython",
    "version": 3
   },
   "file_extension": ".py",
   "mimetype": "text/x-python",
   "name": "python",
   "nbconvert_exporter": "python",
   "pygments_lexer": "ipython3",
   "version": "3.12.3"
  }
 },
 "nbformat": 4,
 "nbformat_minor": 2
}
