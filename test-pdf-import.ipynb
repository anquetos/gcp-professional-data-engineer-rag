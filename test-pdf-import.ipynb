{
 "cells": [
  {
   "cell_type": "markdown",
   "metadata": {},
   "source": [
    "# Pdf exploration and preparation test"
   ]
  },
  {
   "cell_type": "markdown",
   "metadata": {},
   "source": [
    "Main goal is to check if we can read the pdf, extract only relevant content, see how we can post-process the extracted text and finally have some informations about the extracted text."
   ]
  },
  {
   "cell_type": "markdown",
   "metadata": {},
   "source": [
    "Links to `Simple Local RAG Tutorial` :\n",
    "* [GitHub](https://github.com/mrdbourke/simple-local-rag) ;\n",
    "* [YouTube](https://youtu.be/qN_2fnOPY-M?si=APnkpsGY0z_scJ9Z)."
   ]
  },
  {
   "cell_type": "code",
   "execution_count": 3,
   "metadata": {},
   "outputs": [],
   "source": [
    "import re\n",
    "from pathlib import Path\n",
    "from pprint import pprint\n",
    "\n",
    "import pandas as pd\n",
    "import pdfplumber\n",
    "from langchain.text_splitter import SentenceTransformersTokenTextSplitter\n",
    "from langchain_huggingface import HuggingFaceEmbeddings"
   ]
  },
  {
   "cell_type": "markdown",
   "metadata": {},
   "source": [
    "## Extract the pdf pages"
   ]
  },
  {
   "cell_type": "markdown",
   "metadata": {},
   "source": [
    "### Set the file path"
   ]
  },
  {
   "cell_type": "code",
   "execution_count": 7,
   "metadata": {},
   "outputs": [
    {
     "name": "stdout",
     "output_type": "stream",
     "text": [
      "Pdf file path : '/home/thomas/gcp-professional-data-engineer-rag/pdf/source.pdf'.\n"
     ]
    }
   ],
   "source": [
    "PDF_FILENAME = \"source.pdf\"\n",
    "\n",
    "p = Path()\n",
    "p = p.resolve() / \"pdf\"\n",
    "q = p / PDF_FILENAME\n",
    "\n",
    "if q.is_file():\n",
    "    print(f\"Pdf file path : '{q}'.\")\n",
    "else:\n",
    "    print(\"No pdf file found.\")"
   ]
  },
  {
   "cell_type": "markdown",
   "metadata": {},
   "source": [
    "### Read the pdf"
   ]
  },
  {
   "cell_type": "markdown",
   "metadata": {},
   "source": [
    "Let's see if the number of pages found is the right one."
   ]
  },
  {
   "cell_type": "code",
   "execution_count": 4,
   "metadata": {},
   "outputs": [
    {
     "name": "stdout",
     "output_type": "stream",
     "text": [
      "* Expected number of pages : \t355\n",
      "* Number of pages found : \t355\n"
     ]
    }
   ],
   "source": [
    "with pdfplumber.open(q) as pdf:\n",
    "    print(\n",
    "        f\"* Expected number of pages : \\t355\\n* Number of pages found : \\t{len(pdf.pages)}\"\n",
    "    )"
   ]
  },
  {
   "cell_type": "markdown",
   "metadata": {},
   "source": [
    "That's ok, we can try to extract text from a random test page."
   ]
  },
  {
   "cell_type": "code",
   "execution_count": 5,
   "metadata": {},
   "outputs": [
    {
     "name": "stdout",
     "output_type": "stream",
     "text": [
      "Data pipelines are sequences of operations that copy, trans-\n",
      "form, load, and analyze data.\n"
     ]
    }
   ],
   "source": [
    "with pdfplumber.open(q) as pdf:\n",
    "    page = pdf.pages[101]\n",
    "    text = page.extract_text()\n",
    "    print(text[:90])"
   ]
  },
  {
   "cell_type": "markdown",
   "metadata": {},
   "source": [
    "The extraction works but the text doesn't correspond to the one in the selected page above. First thing to take in account is the fact that the first item in a list is at index 0. So when we write `page = pdf.pages[101]`, in fact it is the page 102 which is extracted.\n",
    "But it is still not ok : the extracted text correpond to page 62 which means page 1 in the pdf is actually the page 41 (index 40). The reason is all the \"About\", \"Introduction\", etc. sections are not numbered the same way in the pdf file.\n",
    "This is something to take in account to extract the desired content."
   ]
  },
  {
   "cell_type": "markdown",
   "metadata": {},
   "source": [
    "### Target relevant text"
   ]
  },
  {
   "cell_type": "markdown",
   "metadata": {},
   "source": [
    "Documents can have several information which are not relevant to build a RAG :\n",
    "* headers and footers ;\n",
    "* tables ;\n",
    "* hyperlink ;\n",
    "* figures ;\n",
    "* etc..\n",
    "\n",
    "We only want to keep the body of the document but also the code samples even if a part of this last is not always relevant. Since each document is different, there is not a unique method to determine what is relevant or not. The only way to handle this is to take time to inspect the document structure, layout, etc..\n",
    "\n",
    "In my case, it appears that the **font** will be the best way to help me target the body and the code.\n",
    "\n",
    "> Take note that working with fonts means we will extract the text character by character to access its properties thanks to the [`chars` object](https://github.com/jsvine/pdfplumber?tab=readme-ov-file#objects) available for each instance of `pdfplumber.PDF` and `pdfplumber.Page`."
   ]
  },
  {
   "cell_type": "code",
   "execution_count": 6,
   "metadata": {},
   "outputs": [
    {
     "name": "stdout",
     "output_type": "stream",
     "text": [
      "* Header fontname : \tGHSRZR+UniversLTStd\n",
      "* Body fontname : \tGHSRZR+SabonLTStd-Roman\n"
     ]
    }
   ],
   "source": [
    "with pdfplumber.open(q) as pdf:\n",
    "    page = pdf.pages[43]\n",
    "    header_font = page.chars[3].get(\"fontname\")\n",
    "    body_font = page.chars[103].get(\"fontname\")\n",
    "    print(f\"* Header fontname : \\t{header_font}\\n* Body fontname : \\t{body_font}\")"
   ]
  },
  {
   "cell_type": "code",
   "execution_count": 7,
   "metadata": {},
   "outputs": [
    {
     "name": "stdout",
     "output_type": "stream",
     "text": [
      "* Sample code fontname : \tGHSRZR+SourceCodePro-Regular\n"
     ]
    }
   ],
   "source": [
    "with pdfplumber.open(q) as pdf:\n",
    "    page = pdf.pages[50]\n",
    "    code_font = page.extract_text_lines(return_chars=True)[8][\"chars\"][0].get(\n",
    "        \"fontname\"\n",
    "    )\n",
    "    print(f\"* Sample code fontname : \\t{code_font}\")"
   ]
  },
  {
   "cell_type": "markdown",
   "metadata": {},
   "source": [
    "Header, body and code have different fonts which is of great help. The last thing to take care of is the fact that the text we want to target can be *italic* or **bold**. So let's make a list of all available fonts in the file."
   ]
  },
  {
   "cell_type": "code",
   "execution_count": 8,
   "metadata": {},
   "outputs": [],
   "source": [
    "# Extract all fonts in the document\n",
    "fontname_list = []\n",
    "with pdfplumber.open(q) as pdf:\n",
    "    for page in pdf.pages:\n",
    "        [\n",
    "            fontname_list.append(char.get(\"fontname\"))\n",
    "            for char in page.chars\n",
    "            if char.get(\"fontname\") not in fontname_list\n",
    "        ]"
   ]
  },
  {
   "cell_type": "code",
   "execution_count": 11,
   "metadata": {},
   "outputs": [
    {
     "name": "stdout",
     "output_type": "stream",
     "text": [
      "['GHSRZR+SabonLTStd-Roman', 'GHSRZR+SourceCodePro-Regular', 'GHSRZR+SabonLTStd-Bold', 'GHSRZR+SabonLTStd-Italic', 'URTXBU+SourceCodePro-Bold']\n"
     ]
    }
   ],
   "source": [
    "# List only the necessary fonts\n",
    "body_fontname_list = [\n",
    "    fontname\n",
    "    for fontname in fontname_list\n",
    "    if \"Sabon\" in fontname or \"SourceCode\" in fontname\n",
    "]\n",
    "print(body_fontname_list)"
   ]
  },
  {
   "cell_type": "markdown",
   "metadata": {},
   "source": [
    "Last step for the font part : we will create a helper function to filter the extracted text by font using the fontname of each character."
   ]
  },
  {
   "cell_type": "code",
   "execution_count": 12,
   "metadata": {},
   "outputs": [],
   "source": [
    "# Font filter helper funtion\n",
    "def filter_text_by_font(chars: list[dict], target_fonts: list[str]) -> str:\n",
    "    \"\"\"Filters extracted text and, more precisely, its letters by their fonts.\n",
    "\n",
    "    Args:\n",
    "        chars (list[dict]): chars object from pdfplumber.\n",
    "        target_fonts (list[str]): list of fontnames for which we want to keep the characters/text.\n",
    "\n",
    "    Returns:\n",
    "        str: filtered text.\n",
    "    \"\"\"\n",
    "    char_text = [char[\"text\"] for char in chars if char.get(\"fontname\") in target_fonts]\n",
    "    text = \"\".join(char_text)\n",
    "    return text"
   ]
  },
  {
   "cell_type": "markdown",
   "metadata": {},
   "source": [
    "### Text post-processing"
   ]
  },
  {
   "cell_type": "markdown",
   "metadata": {},
   "source": [
    "#### Basic formatting"
   ]
  },
  {
   "cell_type": "markdown",
   "metadata": {},
   "source": [
    "The goal is to have the cleanest text as possible for further steps. We will remove uppercase and unecessary spaces. In addition to that, we will also replace *fifi* string by *fi*. This is a specific error I noticed after the extraction of my document which shows how important it is to inspect each document carefully to identify the best way to process it.\n",
    "Here is a sample text."
   ]
  },
  {
   "cell_type": "code",
   "execution_count": 23,
   "metadata": {},
   "outputs": [],
   "source": [
    "# Basic text formatter function\n",
    "def basic_text_formatter(text: str) -> str:\n",
    "    \"\"\"Applies different operations to format and clean the text.\n",
    "\n",
    "    Args:\n",
    "        text (str): original text.\n",
    "\n",
    "    Returns:\n",
    "        str: formatted text.\n",
    "    \"\"\"\n",
    "    formatted_text = \" \".join(\n",
    "        text.casefold().replace(\"\\n\", \" \").replace(\"fifi\", \"fi\").split()\n",
    "    )\n",
    "    return formatted_text"
   ]
  },
  {
   "cell_type": "code",
   "execution_count": 26,
   "metadata": {},
   "outputs": [
    {
     "name": "stdout",
     "output_type": "stream",
     "text": [
      "* Before : \t I'm a Basic   text sample. \n",
      "* After : \ti'm a basic text sample.\n"
     ]
    }
   ],
   "source": [
    "basic_text_sample = \" I'm a Basic   text sample. \"\n",
    "\n",
    "print(\n",
    "    f\"* Before : \\t{basic_text_sample}\\n* After : \\t{basic_text_formatter(basic_text_sample)}\"\n",
    ")"
   ]
  },
  {
   "cell_type": "markdown",
   "metadata": {},
   "source": [
    "#### Hyphens"
   ]
  },
  {
   "cell_type": "markdown",
   "metadata": {},
   "source": [
    "Hyphens are used to break words so that the appearance of the page is nicer but it will interfere in the words recognition."
   ]
  },
  {
   "cell_type": "code",
   "execution_count": 27,
   "metadata": {},
   "outputs": [
    {
     "name": "stdout",
     "output_type": "stream",
     "text": [
      "con-\n",
      "necting\n"
     ]
    }
   ],
   "source": [
    "with pdfplumber.open(q) as pdf:\n",
    "    page = pdf.pages[237]\n",
    "    text = page.extract_text()\n",
    "    hyphen_text_sample = text[1066:1078]\n",
    "    print(hyphen_text_sample)"
   ]
  },
  {
   "cell_type": "code",
   "execution_count": 17,
   "metadata": {},
   "outputs": [],
   "source": [
    "def remove_hyphens(text: str) -> str:\n",
    "    \"\"\"Removes hyphens from text.\n",
    "\n",
    "    Args:\n",
    "        text (str): original text.\n",
    "\n",
    "    Returns:\n",
    "        str: processed text.\n",
    "    \"\"\"\n",
    "    lines = [line.rstrip() for line in text.split(\"\\n\")]\n",
    "\n",
    "    # Find dashes\n",
    "    line_numbers = []\n",
    "    for line_no, line in enumerate(lines[:-1]):\n",
    "        if line.endswith(\"-\"):\n",
    "            line_numbers.append(line_no)\n",
    "\n",
    "    # Replace\n",
    "    for line_no in line_numbers:\n",
    "        lines = dehyphenate(lines, line_no)\n",
    "\n",
    "    return \" \".join(lines)\n",
    "\n",
    "\n",
    "def dehyphenate(lines: list[str], line_no: int) -> list[str]:\n",
    "    \"\"\"Rebuilds lines (words) separated by hyphen.\n",
    "\n",
    "    Args:\n",
    "        lines (list[str]): lines to process.\n",
    "        line_no (int): index of lines to process.\n",
    "\n",
    "    Returns:\n",
    "        list[str]: list of modified lines.\n",
    "    \"\"\"\n",
    "    next_line = lines[line_no + 1]\n",
    "    word_suffix = next_line.split(\" \")[0]\n",
    "\n",
    "    lines[line_no] = lines[line_no][:-1] + word_suffix\n",
    "    lines[line_no + 1] = lines[line_no + 1][len(word_suffix) :]\n",
    "    return lines"
   ]
  },
  {
   "cell_type": "code",
   "execution_count": 18,
   "metadata": {},
   "outputs": [
    {
     "name": "stdout",
     "output_type": "stream",
     "text": [
      "* Before : \tcon-\n",
      "necting\n",
      "* After : \tconnecting \n"
     ]
    }
   ],
   "source": [
    "print(\n",
    "    f\"* Before : \\t{hyphen_text_sample}\\n* After : \\t{remove_hyphens(hyphen_text_sample)}\"\n",
    ")"
   ]
  },
  {
   "cell_type": "markdown",
   "metadata": {},
   "source": [
    "### Text extraction"
   ]
  },
  {
   "cell_type": "markdown",
   "metadata": {},
   "source": [
    "We now have all our \"tools\"\" to extract the pdf pages correctly and in a relevant way. To refine a bit more our target will remove the pages we don't want to keep (like introduction, glossary, etc.) and we will skip the blank pages (with no content).\n",
    "\n",
    "Do do this, We will write a final function to process our whole document. Pages will be stored in a list of dictionnaries where we will be able to add information like page number, number of characters, tokens, sentences, etc.. and to explore the pages information by converting it to a DataFrame."
   ]
  },
  {
   "cell_type": "code",
   "execution_count": 126,
   "metadata": {},
   "outputs": [],
   "source": [
    "def extract_and_process_pdf(path: Path) -> list[dict]:\n",
    "    \"\"\"Open a pdf file with pdfplumber, extracts and formats relevant pages then append\n",
    "    their content and statistics in a list.\n",
    "\n",
    "    Args:\n",
    "        path (Path): Pathlib path of the document.\n",
    "\n",
    "    Returns:\n",
    "        list[dict]: Extracted content and informations of pages.\n",
    "    \"\"\"\n",
    "    extracted_pages = []\n",
    "\n",
    "    with pdfplumber.open(path) as pdf:\n",
    "        for page_idx, page in enumerate(pdf.pages):\n",
    "            page_number = page_idx - 39\n",
    "            lines = page.extract_text_lines(return_chars=True, keep_blank_chars=True)\n",
    "\n",
    "            kept_lines = []\n",
    "            for line in lines:\n",
    "                kept_lines.append(\n",
    "                    filter_text_by_font(line[\"chars\"], body_fontname_list)\n",
    "                )\n",
    "            text = \"\\n\".join(kept_lines)\n",
    "\n",
    "            text = remove_hyphens(text)\n",
    "            text = basic_text_formatter(text)\n",
    "\n",
    "            if 0 < page_number <= 305 and text:\n",
    "                extracted_pages.append(\n",
    "                    {\n",
    "                        \"page_number\": page_number,\n",
    "                        \"page_chars_count\": len(text),\n",
    "                        \"page_words_count\": len(text.split(\" \")),\n",
    "                        \"page_raw_sentences_count\": len(re.split(r\"[.?!]\", text)),\n",
    "                        \"page_text\": text,\n",
    "                    }\n",
    "                )\n",
    "\n",
    "    return extracted_pages"
   ]
  },
  {
   "cell_type": "code",
   "execution_count": 168,
   "metadata": {},
   "outputs": [],
   "source": [
    "extracted_pages = extract_and_process_pdf(q)"
   ]
  },
  {
   "cell_type": "markdown",
   "metadata": {},
   "source": [
    "## Splitting pages text"
   ]
  },
  {
   "cell_type": "markdown",
   "metadata": {},
   "source": [
    "### Number of tokens"
   ]
  },
  {
   "cell_type": "markdown",
   "metadata": {},
   "source": [
    "First of all we must take in account the fact that we will use the `sentence-transformers` model [`all-mpnet-base-v2`](https://huggingface.co/sentence-transformers/all-mpnet-base-v2) which as *a max tokens capacity of **514***. The token capacity *is very a important concept for a model* since it refers to *the maximum number of tokens it can process* in its context window during a single interaction.\n",
    "\n",
    "In our case, the `all-mpnet-base-v2` model has been trained to ingest and turn into embeddings texts with 514 tokens. Texts over 514 tokens which are encoded by this model will be automatically reduced to 514 tokens in length, potentially losing some information.\n",
    "\n",
    "So what we want to know is how many tokens we have per page. We wil start by a raw tokens counts using the method explained [here](https://help.openai.com/en/articles/4936856-what-are-tokens-and-how-to-count-them) or [here](https://python.langchain.com/docs/concepts/tokens/)."
   ]
  },
  {
   "cell_type": "code",
   "execution_count": 170,
   "metadata": {},
   "outputs": [
    {
     "data": {
      "text/html": [
       "<div>\n",
       "<style scoped>\n",
       "    .dataframe tbody tr th:only-of-type {\n",
       "        vertical-align: middle;\n",
       "    }\n",
       "\n",
       "    .dataframe tbody tr th {\n",
       "        vertical-align: top;\n",
       "    }\n",
       "\n",
       "    .dataframe thead th {\n",
       "        text-align: right;\n",
       "    }\n",
       "</style>\n",
       "<table border=\"1\" class=\"dataframe\">\n",
       "  <thead>\n",
       "    <tr style=\"text-align: right;\">\n",
       "      <th></th>\n",
       "      <th>page_chars_count</th>\n",
       "      <th>page_words_count</th>\n",
       "      <th>page_raw_sentences_count</th>\n",
       "    </tr>\n",
       "  </thead>\n",
       "  <tbody>\n",
       "    <tr>\n",
       "      <th>mean</th>\n",
       "      <td>2082.93</td>\n",
       "      <td>331.97</td>\n",
       "      <td>21.32</td>\n",
       "    </tr>\n",
       "    <tr>\n",
       "      <th>min</th>\n",
       "      <td>121.00</td>\n",
       "      <td>22.00</td>\n",
       "      <td>1.00</td>\n",
       "    </tr>\n",
       "    <tr>\n",
       "      <th>max</th>\n",
       "      <td>3705.00</td>\n",
       "      <td>624.00</td>\n",
       "      <td>55.00</td>\n",
       "    </tr>\n",
       "  </tbody>\n",
       "</table>\n",
       "</div>"
      ],
      "text/plain": [
       "      page_chars_count  page_words_count  page_raw_sentences_count\n",
       "mean           2082.93            331.97                     21.32\n",
       "min             121.00             22.00                      1.00\n",
       "max            3705.00            624.00                     55.00"
      ]
     },
     "execution_count": 170,
     "metadata": {},
     "output_type": "execute_result"
    }
   ],
   "source": [
    "# Convert the extracted pages dictionnaries to DataFrame\n",
    "df = pd.DataFrame(extracted_pages)\n",
    "\n",
    "# Generate descriptive statistics\n",
    "df.describe().drop(columns=[\"page_number\"]).loc[[\"mean\", \"min\", \"max\"]].round(2)"
   ]
  },
  {
   "cell_type": "markdown",
   "metadata": {},
   "source": [
    "We can know add the `raw_token_count`."
   ]
  },
  {
   "cell_type": "code",
   "execution_count": 171,
   "metadata": {},
   "outputs": [
    {
     "data": {
      "text/html": [
       "<div>\n",
       "<style scoped>\n",
       "    .dataframe tbody tr th:only-of-type {\n",
       "        vertical-align: middle;\n",
       "    }\n",
       "\n",
       "    .dataframe tbody tr th {\n",
       "        vertical-align: top;\n",
       "    }\n",
       "\n",
       "    .dataframe thead th {\n",
       "        text-align: right;\n",
       "    }\n",
       "</style>\n",
       "<table border=\"1\" class=\"dataframe\">\n",
       "  <thead>\n",
       "    <tr style=\"text-align: right;\">\n",
       "      <th></th>\n",
       "      <th>page_chars_count</th>\n",
       "      <th>page_words_count</th>\n",
       "      <th>page_raw_sentences_count</th>\n",
       "      <th>page_raw_tokens_count</th>\n",
       "    </tr>\n",
       "  </thead>\n",
       "  <tbody>\n",
       "    <tr>\n",
       "      <th>mean</th>\n",
       "      <td>2082.93</td>\n",
       "      <td>331.97</td>\n",
       "      <td>21.32</td>\n",
       "      <td>520.38</td>\n",
       "    </tr>\n",
       "    <tr>\n",
       "      <th>50%</th>\n",
       "      <td>2161.00</td>\n",
       "      <td>341.00</td>\n",
       "      <td>20.00</td>\n",
       "      <td>540.00</td>\n",
       "    </tr>\n",
       "    <tr>\n",
       "      <th>75%</th>\n",
       "      <td>2615.00</td>\n",
       "      <td>414.00</td>\n",
       "      <td>26.00</td>\n",
       "      <td>653.00</td>\n",
       "    </tr>\n",
       "    <tr>\n",
       "      <th>min</th>\n",
       "      <td>121.00</td>\n",
       "      <td>22.00</td>\n",
       "      <td>1.00</td>\n",
       "      <td>30.00</td>\n",
       "    </tr>\n",
       "    <tr>\n",
       "      <th>max</th>\n",
       "      <td>3705.00</td>\n",
       "      <td>624.00</td>\n",
       "      <td>55.00</td>\n",
       "      <td>926.00</td>\n",
       "    </tr>\n",
       "  </tbody>\n",
       "</table>\n",
       "</div>"
      ],
      "text/plain": [
       "      page_chars_count  page_words_count  page_raw_sentences_count  \\\n",
       "mean           2082.93            331.97                     21.32   \n",
       "50%            2161.00            341.00                     20.00   \n",
       "75%            2615.00            414.00                     26.00   \n",
       "min             121.00             22.00                      1.00   \n",
       "max            3705.00            624.00                     55.00   \n",
       "\n",
       "      page_raw_tokens_count  \n",
       "mean                 520.38  \n",
       "50%                  540.00  \n",
       "75%                  653.00  \n",
       "min                   30.00  \n",
       "max                  926.00  "
      ]
     },
     "execution_count": 171,
     "metadata": {},
     "output_type": "execute_result"
    }
   ],
   "source": [
    "# Calculate raw tokens count\n",
    "for page in extracted_pages:\n",
    "    page[\"page_raw_tokens_count\"] = len(page[\"page_text\"]) // 4\n",
    "\n",
    "# Regenerate DataFrame and statistics\n",
    "df = pd.DataFrame(extracted_pages)\n",
    "df.describe().drop(columns=[\"page_number\"]).loc[\n",
    "    [\"mean\", \"50%\", \"75%\", \"min\", \"max\"]\n",
    "].round(2)"
   ]
  },
  {
   "cell_type": "markdown",
   "metadata": {},
   "source": [
    "Looking at the results we can see that the average raw count per page is above the tokens capacity of our model. But is only a raw count so let's try to be more precise.\n",
    "\n",
    "For the next steps to come, we will use the *LangChain* framework and its different tools. We will instantiate a `SentenceTransformersTokenTextSplitter` and use the `count_token` method. What is nice with this solution is the fact that its a specialized text splitter for use with `sentence-transformer` models. This means it will behave taking in account the model we will use."
   ]
  },
  {
   "cell_type": "code",
   "execution_count": null,
   "metadata": {},
   "outputs": [
    {
     "data": {
      "text/html": [
       "<div>\n",
       "<style scoped>\n",
       "    .dataframe tbody tr th:only-of-type {\n",
       "        vertical-align: middle;\n",
       "    }\n",
       "\n",
       "    .dataframe tbody tr th {\n",
       "        vertical-align: top;\n",
       "    }\n",
       "\n",
       "    .dataframe thead th {\n",
       "        text-align: right;\n",
       "    }\n",
       "</style>\n",
       "<table border=\"1\" class=\"dataframe\">\n",
       "  <thead>\n",
       "    <tr style=\"text-align: right;\">\n",
       "      <th></th>\n",
       "      <th>page_chars_count</th>\n",
       "      <th>page_words_count</th>\n",
       "      <th>page_raw_sentences_count</th>\n",
       "      <th>page_raw_tokens_count</th>\n",
       "      <th>page_real_tokens_count</th>\n",
       "    </tr>\n",
       "  </thead>\n",
       "  <tbody>\n",
       "    <tr>\n",
       "      <th>mean</th>\n",
       "      <td>2082.93</td>\n",
       "      <td>331.97</td>\n",
       "      <td>21.32</td>\n",
       "      <td>520.38</td>\n",
       "      <td>431.07</td>\n",
       "    </tr>\n",
       "    <tr>\n",
       "      <th>50%</th>\n",
       "      <td>2161.00</td>\n",
       "      <td>341.00</td>\n",
       "      <td>20.00</td>\n",
       "      <td>540.00</td>\n",
       "      <td>436.00</td>\n",
       "    </tr>\n",
       "    <tr>\n",
       "      <th>75%</th>\n",
       "      <td>2615.00</td>\n",
       "      <td>414.00</td>\n",
       "      <td>26.00</td>\n",
       "      <td>653.00</td>\n",
       "      <td>544.00</td>\n",
       "    </tr>\n",
       "    <tr>\n",
       "      <th>min</th>\n",
       "      <td>121.00</td>\n",
       "      <td>22.00</td>\n",
       "      <td>1.00</td>\n",
       "      <td>30.00</td>\n",
       "      <td>29.00</td>\n",
       "    </tr>\n",
       "    <tr>\n",
       "      <th>max</th>\n",
       "      <td>3705.00</td>\n",
       "      <td>624.00</td>\n",
       "      <td>55.00</td>\n",
       "      <td>926.00</td>\n",
       "      <td>785.00</td>\n",
       "    </tr>\n",
       "  </tbody>\n",
       "</table>\n",
       "</div>"
      ],
      "text/plain": [
       "      page_chars_count  page_words_count  page_raw_sentences_count  \\\n",
       "mean           2082.93            331.97                     21.32   \n",
       "50%            2161.00            341.00                     20.00   \n",
       "75%            2615.00            414.00                     26.00   \n",
       "min             121.00             22.00                      1.00   \n",
       "max            3705.00            624.00                     55.00   \n",
       "\n",
       "      page_raw_tokens_count  page_real_tokens_count  \n",
       "mean                 520.38                  431.07  \n",
       "50%                  540.00                  436.00  \n",
       "75%                  653.00                  544.00  \n",
       "min                   30.00                   29.00  \n",
       "max                  926.00                  785.00  "
      ]
     },
     "execution_count": 172,
     "metadata": {},
     "output_type": "execute_result"
    }
   ],
   "source": [
    "# Instantiate the text splitter\n",
    "text_splitter = SentenceTransformersTokenTextSplitter(\n",
    "    model_name=\"sentence-transformers/all-mpnet-base-v2\"\n",
    ")\n",
    "\n",
    "# Calculate real tokens count\n",
    "for page in extracted_pages:\n",
    "    page[\"page_real_tokens_count\"] = text_splitter.count_tokens(text=page[\"page_text\"])\n",
    "\n",
    "# Regenerate DataFrame and statistics\n",
    "df = pd.DataFrame(extracted_pages)\n",
    "df.describe().drop(columns=[\"page_number\"]).loc[\n",
    "    [\"mean\", \"50%\", \"75%\", \"min\", \"max\"]\n",
    "].round(2)"
   ]
  },
  {
   "cell_type": "markdown",
   "metadata": {},
   "source": [
    "This is better. The average tokens count is below the capacity of the model but *we still have 25 % of pages with more than 544 tokens*."
   ]
  },
  {
   "cell_type": "markdown",
   "metadata": {},
   "source": [
    "### Creating chunks"
   ]
  },
  {
   "cell_type": "markdown",
   "metadata": {},
   "source": [
    "The next step will be to split our text in manageable chunks with the right amount of token. And will to that with using the `split_text` method of `SentenceTransformersTokenTextSplitter`.\n",
    "\n",
    "When splitting the text, we will configure a chunk overlap which define the number of characters which overlap between chunks ensuring that context is preserved. Take in mind that increasing the overlap will increase the number of chunks created."
   ]
  },
  {
   "cell_type": "code",
   "execution_count": 186,
   "metadata": {},
   "outputs": [
    {
     "data": {
      "text/html": [
       "<div>\n",
       "<style scoped>\n",
       "    .dataframe tbody tr th:only-of-type {\n",
       "        vertical-align: middle;\n",
       "    }\n",
       "\n",
       "    .dataframe tbody tr th {\n",
       "        vertical-align: top;\n",
       "    }\n",
       "\n",
       "    .dataframe thead th {\n",
       "        text-align: right;\n",
       "    }\n",
       "</style>\n",
       "<table border=\"1\" class=\"dataframe\">\n",
       "  <thead>\n",
       "    <tr style=\"text-align: right;\">\n",
       "      <th></th>\n",
       "      <th>page_chars_count</th>\n",
       "      <th>page_words_count</th>\n",
       "      <th>page_raw_sentences_count</th>\n",
       "      <th>page_raw_tokens_count</th>\n",
       "      <th>page_real_tokens_count</th>\n",
       "      <th>page_chunks_max_tokens_count</th>\n",
       "      <th>page_chunks_count</th>\n",
       "    </tr>\n",
       "  </thead>\n",
       "  <tbody>\n",
       "    <tr>\n",
       "      <th>mean</th>\n",
       "      <td>2082.93</td>\n",
       "      <td>331.97</td>\n",
       "      <td>21.32</td>\n",
       "      <td>520.38</td>\n",
       "      <td>431.07</td>\n",
       "      <td>343.94</td>\n",
       "      <td>1.82</td>\n",
       "    </tr>\n",
       "    <tr>\n",
       "      <th>50%</th>\n",
       "      <td>2161.00</td>\n",
       "      <td>341.00</td>\n",
       "      <td>20.00</td>\n",
       "      <td>540.00</td>\n",
       "      <td>436.00</td>\n",
       "      <td>386.00</td>\n",
       "      <td>2.00</td>\n",
       "    </tr>\n",
       "    <tr>\n",
       "      <th>75%</th>\n",
       "      <td>2615.00</td>\n",
       "      <td>414.00</td>\n",
       "      <td>26.00</td>\n",
       "      <td>653.00</td>\n",
       "      <td>544.00</td>\n",
       "      <td>386.00</td>\n",
       "      <td>2.00</td>\n",
       "    </tr>\n",
       "    <tr>\n",
       "      <th>min</th>\n",
       "      <td>121.00</td>\n",
       "      <td>22.00</td>\n",
       "      <td>1.00</td>\n",
       "      <td>30.00</td>\n",
       "      <td>29.00</td>\n",
       "      <td>29.00</td>\n",
       "      <td>1.00</td>\n",
       "    </tr>\n",
       "    <tr>\n",
       "      <th>max</th>\n",
       "      <td>3705.00</td>\n",
       "      <td>624.00</td>\n",
       "      <td>55.00</td>\n",
       "      <td>926.00</td>\n",
       "      <td>785.00</td>\n",
       "      <td>389.00</td>\n",
       "      <td>4.00</td>\n",
       "    </tr>\n",
       "  </tbody>\n",
       "</table>\n",
       "</div>"
      ],
      "text/plain": [
       "      page_chars_count  page_words_count  page_raw_sentences_count  \\\n",
       "mean           2082.93            331.97                     21.32   \n",
       "50%            2161.00            341.00                     20.00   \n",
       "75%            2615.00            414.00                     26.00   \n",
       "min             121.00             22.00                      1.00   \n",
       "max            3705.00            624.00                     55.00   \n",
       "\n",
       "      page_raw_tokens_count  page_real_tokens_count  \\\n",
       "mean                 520.38                  431.07   \n",
       "50%                  540.00                  436.00   \n",
       "75%                  653.00                  544.00   \n",
       "min                   30.00                   29.00   \n",
       "max                  926.00                  785.00   \n",
       "\n",
       "      page_chunks_max_tokens_count  page_chunks_count  \n",
       "mean                        343.94               1.82  \n",
       "50%                         386.00               2.00  \n",
       "75%                         386.00               2.00  \n",
       "min                          29.00               1.00  \n",
       "max                         389.00               4.00  "
      ]
     },
     "execution_count": 186,
     "metadata": {},
     "output_type": "execute_result"
    }
   ],
   "source": [
    "# Instantiate the text splitter\n",
    "text_splitter = SentenceTransformersTokenTextSplitter(\n",
    "    chunk_overlap=200, model_name=\"sentence-transformers/all-mpnet-base-v2\"\n",
    ")\n",
    "\n",
    "# Split the text for each page\n",
    "for page in extracted_pages:\n",
    "    page[\"page_chunks\"] = text_splitter.split_text(text=page[\"page_text\"])\n",
    "    page[\"page_chunks_max_tokens_count\"] = max(\n",
    "        text_splitter.count_tokens(text=chunk) for chunk in page[\"page_chunks\"]\n",
    "    )\n",
    "    page[\"page_chunks_count\"] = len(page[\"page_chunks\"])\n",
    "\n",
    "# Regenerate DataFrame and statistics\n",
    "df = pd.DataFrame(extracted_pages)\n",
    "df.describe().drop(columns=[\"page_number\"]).loc[\n",
    "    [\"mean\", \"50%\", \"75%\", \"min\", \"max\"]\n",
    "].round(2)"
   ]
  },
  {
   "cell_type": "markdown",
   "metadata": {},
   "source": [
    "Nice the number of tokens now fits with the model capacity, we are ready to embed."
   ]
  },
  {
   "cell_type": "markdown",
   "metadata": {},
   "source": [
    "### Embeddings chunks"
   ]
  },
  {
   "cell_type": "markdown",
   "metadata": {},
   "source": [
    "#### Test"
   ]
  },
  {
   "cell_type": "code",
   "execution_count": 241,
   "metadata": {},
   "outputs": [],
   "source": [
    "# Instantiate the embedding model\n",
    "embeddings = HuggingFaceEmbeddings(\n",
    "    model_name=\"sentence-transformers/all-mpnet-base-v2\",\n",
    "    model_kwargs={\"device\": None},\n",
    "    encode_kwargs={\"normalize_embeddings\": True},\n",
    ")\n",
    "\n",
    "# Create a list of sentences to turn into numbers\n",
    "sentences = [\n",
    "    \"The Sentences Transformers library provides an easy and open-source way to create embeddings.\",\n",
    "    \"Sentences can be embedded one by one or as a list of strings.\",\n",
    "    \"Embeddings are one of the most powerful concepts in machine learning!\",\n",
    "    \"Learn to use embeddings well and you'll be well on your way to being an AI engineer.\",\n",
    "]\n",
    "\n",
    "# Embed sentences\n",
    "embeddings = embeddings.embed_documents(sentences)"
   ]
  },
  {
   "cell_type": "code",
   "execution_count": 246,
   "metadata": {},
   "outputs": [
    {
     "name": "stdout",
     "output_type": "stream",
     "text": [
      "len_embedding :  768\n",
      "embedding :  [-0.02079826593399048, 0.03031645342707634, -0.020121803507208824, 0.06864846497774124, -0.025525597855448723, -0.00847684871405363, -0.0002072092320304364, -0.06323777884244919, 0.02816072665154934, -0.033335354179143906, 0.030263422057032585, 0.05307215079665184, -0.05035267397761345, 0.02622886933386326, 0.03333140164613724, -0.04515775665640831, 0.03630451112985611, -0.0013711987994611263, -0.012017090804874897, 0.01149469893425703, 0.050451066344976425, 0.047085702419281006, 0.02119137905538082, 0.0514606349170208, -0.020374663174152374, -0.03588895499706268, -0.0006677887286059558, -0.029439402744174004, 0.04958593472838402, -0.010563965886831284, -0.015201432630419731, -0.0013176074717193842, 0.04481975734233856, 0.015602296218276024, 8.603792025496659e-07, -0.001213915296830237, -0.023797865957021713, -0.0009093762491829693, 0.007344856858253479, -0.002539339940994978, 0.05233703553676605, -0.04680434986948967, 0.016621500253677368, 0.04715796560049057, -0.04155993089079857, 0.0009019476128742099, 0.03602781519293785, 0.03422143682837486, 0.09682274609804153, 0.05948292836546898, -0.016498437151312828, -0.03512490540742874, 0.005925135686993599, -0.0007079291390255094, -0.02410312183201313, 0.03497408702969551, -0.029474686831235886, 0.006042665336281061, -0.009806490503251553, 0.02832178585231304, -0.01853758469223976, 0.036321330815553665, 0.013029246591031551, -0.037123292684555054, 0.05272562429308891, -0.01197069138288498, -0.07180824130773544, 0.012443182989954948, -0.006705633830279112, 0.07421548664569855, 0.011635630391538143, -0.01745336689054966, -0.018240563571453094, -0.01889312081038952, 0.028241494670510292, 0.01328292116522789, -0.03519098460674286, 0.0008872980251908302, 0.0579572468996048, 0.0322093740105629, -0.0034857920836657286, 0.04137687385082245, 0.014435823075473309, -0.03280441835522652, -0.009790848940610886, -0.03164930269122124, 0.04238708317279816, -0.04708465188741684, -0.020893678069114685, -0.01912493258714676, -0.012262757867574692, 0.010160636156797409, 0.03919214382767677, -0.026189608499407768, 0.010902808047831059, 0.013572336174547672, -0.057926759123802185, -0.03215000405907631, -0.005757236387580633, -0.024351580068469048, 0.05234169214963913, 0.005461236461997032, -0.023099593818187714, 0.002571751596406102, -0.06633469462394714, 0.03541254624724388, -0.010390736162662506, 0.02254103496670723, -0.018457375466823578, -0.02420070953667164, -0.04783656448125839, -0.004792252089828253, -0.053413815796375275, 0.030179036781191826, -0.015613103285431862, -0.055147722363471985, -0.039187416434288025, 0.059215325862169266, -0.034764666110277176, 0.009681230410933495, 0.02134154923260212, 0.02304169535636902, 0.01917134039103985, 0.027737878262996674, -0.007735082879662514, 0.010444559156894684, -0.026772022247314453, -0.024019982665777206, -0.01922902651131153, 0.003915037494152784, -0.025471501052379608, 0.0361943356692791, 0.0512867271900177, -0.008416932076215744, -0.03138301149010658, 0.014748334884643555, 0.021394038572907448, -0.03849007561802864, 0.020194509997963905, 0.012076601386070251, -0.0031206542626023293, 0.00784032791852951, 0.0033033681102097034, -0.049435749650001526, 0.05838869884610176, 0.0032613729126751423, 0.004844857379794121, -0.045068226754665375, 0.024568304419517517, 0.035542797297239304, -0.05325061455368996, 0.09211527556180954, 0.020439494401216507, -0.03369519114494324, -0.06198035925626755, -0.021103931590914726, 0.07823587208986282, 0.051190827041864395, 0.05931704863905907, -0.00012514297850430012, 0.04963502660393715, -0.015572238713502884, -0.0033568162471055984, 0.01820160262286663, -0.027344411239027977, -0.010877232998609543, 0.014147619716823101, 0.010987765155732632, 0.004325543064624071, 0.08233113586902618, -0.0009853452211245894, 0.07587912678718567, 0.009449954144656658, 0.023768769577145576, 0.016192805022001266, 0.06249939277768135, 0.047592226415872574, -0.0039263139478862286, 0.09075244516134262, 0.044987455010414124, -0.03471315652132034, 0.021407730877399445, -0.03356045484542847, 0.049384940415620804, 0.010866985656321049, 0.026344768702983856, -0.03260895237326622, 0.08003032952547073, 0.009297633543610573, 0.007165815215557814, -0.027917254716157913, -0.030682122334837914, 0.0040106140077114105, -0.049390699714422226, -0.0031377170234918594, 0.040053755044937134, -0.039785515516996384, 0.05480135977268219, 1.3629447494167835e-05, -0.08383729308843613, -0.012154749594628811, 0.03409499675035477, 0.0032240748405456543, 0.061184629797935486, 0.056006696075201035, 0.009628720581531525, 0.02546166256070137, -0.046416882425546646, -0.039890091866254807, 0.07681319117546082, 0.022840911522507668, -0.022656884044408798, -0.01911930926144123, -0.06530292332172394, 0.04567812755703926, -0.004436601419001818, 0.014963163062930107, -0.02150779776275158, 0.002742484677582979, 0.019035836681723595, 0.05918886885046959, -0.024756930768489838, 0.03661445900797844, 0.05630839616060257, -0.008864476345479488, -0.017432458698749542, -0.0010328955249860883, 0.024766672402620316, 0.013076309114694595, 0.05046330764889717, -0.005284953396767378, 0.05923975259065628, 0.06299063563346863, -0.04367831349372864, -0.049783021211624146, 0.055629663169384, -0.024485401809215546, -0.082675501704216, 0.020491044968366623, -0.1064462810754776, 0.006648420821875334, 0.02973044663667679, -0.023644009605050087, -0.008846171200275421, 0.002455557929351926, -0.03352343663573265, 0.07522127777338028, -0.05898800119757652, -0.03678083419799805, 0.034154295921325684, 0.05411309003829956, -0.01749044470489025, 0.013392091728746891, 0.047168273478746414, 0.014611630700528622, -0.021231070160865784, -0.0655338391661644, 0.012385743670165539, 0.027607450261712074, -0.00802162941545248, -0.045963648706674576, -0.008224405348300934, 0.009169542230665684, -0.015639930963516235, 0.007546198088675737, 0.0015830709598958492, -0.030395811423659325, -0.05106711760163307, 0.01963134855031967, 0.01262631919234991, -0.0015173694118857384, 0.02028912678360939, 0.013781729154288769, 0.014911054633557796, 0.025076700374484062, -0.03628707677125931, 0.010808519087731838, 0.00274133263155818, 0.018151063472032547, 0.05398720130324364, -0.04745420813560486, -0.04287310317158699, -0.02899143472313881, 0.02132352814078331, -0.03851613402366638, 0.06319224834442139, -0.057797592133283615, 0.0037788839545100927, -0.025439392775297165, -0.00017727089289110154, 0.009082445874810219, 0.01590954139828682, 0.04117995500564575, -0.03943675011396408, -0.009644352830946445, 0.01307914312928915, 0.06879625469446182, 0.04321925714612007, 0.000753964704927057, 0.06777416169643402, 0.04937060549855232, -0.0034782011061906815, -0.010605528019368649, 0.006724946666508913, -0.013906233943998814, 0.04882768541574478, -0.010573524050414562, 0.0035022799856960773, 0.002902233973145485, 0.02400439791381359, 0.012027190066874027, -0.020979739725589752, -0.023911187425255775, 0.03265795856714249, -0.001013264642097056, -0.005927560850977898, -0.007405329030007124, 0.0036314697936177254, -0.022669846192002296, -0.022124160081148148, 0.038699645549058914, 0.017232153564691544, 0.03859204798936844, -0.05047114938497543, -0.03421452268958092, -0.04004440829157829, -0.035791099071502686, -0.04625611752271652, 0.06702325493097305, -0.004616502672433853, -0.0032967785373330116, 0.020844407379627228, -0.005142576526850462, -0.05008498951792717, 0.022250408306717873, 0.0466933473944664, 0.013620906509459019, 0.017753005027770996, 0.004280774854123592, -0.027933210134506226, -0.019342022016644478, -0.03878597915172577, -0.03095548041164875, -0.06641343235969543, -0.011343421414494514, 0.016426732763648033, 0.0177629217505455, -0.0022822394967079163, -0.033008743077516556, -0.0013626284198835492, -0.021793397143483162, -0.0267508365213871, -0.012637583538889885, 0.0016187091823667288, -0.04956726357340813, 0.07854458689689636, 0.041096292436122894, 0.009659173898398876, -0.01146433874964714, 0.0016885295044630766, 0.05376633629202843, 0.0020552901551127434, -0.04112003371119499, 0.01463302131742239, -0.03755641728639603, -0.03356898948550224, 0.005192544311285019, -0.06330889463424683, 0.03329634666442871, 0.00876121036708355, 0.0013385852798819542, -0.003957477398216724, -0.01616777293384075, 0.08267469704151154, 0.04759451746940613, -0.03430554270744324, 0.025088118389248848, -0.03509774059057236, 0.0368657261133194, 0.004126501269638538, 0.04160180687904358, -0.13518166542053223, -0.047633811831474304, -0.012002609670162201, -0.034889187663793564, 0.03254551440477371, -0.0029357587918639183, -0.004850552882999182, -0.10422373563051224, 0.027861010283231735, 0.014157027937471867, 0.039439551532268524, -0.038880690932273865, -0.01424636784940958, -0.05199839919805527, 0.008927362971007824, -0.019977109506726265, -0.025172529742121696, -0.03412996605038643, 0.01930413581430912, -0.052020829170942307, -0.06720001250505447, -0.009463660418987274, -0.0012558689340949059, -0.05660487338900566, 0.026209823787212372, 0.00991583988070488, 0.04382864758372307, 0.0022664330899715424, -0.031189564615488052, -0.0625467523932457, -0.03877931088209152, -0.06839392334222794, 0.049372173845767975, 0.05855076014995575, -0.040872972458601, -0.019863812252879143, -0.021263428032398224, 0.04980374127626419, -0.04517487809062004, -0.023714173585176468, 0.023267505690455437, 0.10059481859207153, 0.00987118761986494, -0.013801497407257557, -0.052104149013757706, 0.009082104079425335, 0.017242761328816414, 0.05914315581321716, 0.026233673095703125, -0.007046389859169722, -0.01500321738421917, -0.003766570007428527, 0.006282568443566561, -0.052398115396499634, -0.04966382682323456, 0.030661122873425484, -0.003336467081680894, 0.023491134867072105, -0.0858830064535141, -0.046244990080595016, 0.055970121175050735, 0.00030905267340131104, 0.020172912627458572, -0.0029804916121065617, 0.01766461320221424, 0.015466934069991112, -0.07417181879281998, 0.007349944673478603, -0.010501539334654808, 0.024524735286831856, 0.01368793472647667, -0.011780410073697567, 0.04515448212623596, 0.032903943210840225, -0.0035038995556533337, -0.027131468057632446, -0.05273637920618057, -0.04601644352078438, 0.022284839302301407, 0.026227161288261414, 0.0055615101009607315, 0.014578908681869507, -0.029714586213231087, 0.03570428490638733, 0.022253403440117836, 0.038961656391620636, -0.07926347106695175, -0.009010925889015198, 0.021901311352849007, -0.005490561481565237, 0.008699571713805199, 0.04330311715602875, -0.02126314677298069, 0.011329197324812412, -0.06336992979049683, 0.0363723486661911, 0.026744265109300613, -0.06642521172761917, 0.017049923539161682, -0.027969125658273697, 0.0023634969256818295, -0.01819527894258499, 0.015295562334358692, -0.008504347875714302, 0.01166477333754301, -0.09759223461151123, -0.029209326952695847, -0.054254740476608276, 0.036123476922512054, 0.03251169994473457, 0.008269774727523327, -0.0002964993182104081, 0.01115555688738823, -0.038518816232681274, 0.02361610159277916, 0.009859229438006878, 0.05739986523985863, 0.04860612750053406, -0.013757928274571896, -0.006192220840603113, 0.01119731180369854, -0.033717524260282516, -0.011051572859287262, -0.07083340734243393, -0.010181639343500137, -0.036601074039936066, -0.015556086786091328, -0.021311042830348015, -0.010276108048856258, -0.043573375791311264, 0.05551864579319954, -0.0376548245549202, 0.05292520672082901, -0.03452238813042641, -0.002430048305541277, 0.07255534827709198, 0.004450709093362093, 0.04714176058769226, -0.009438816457986832, -0.019897891208529472, 0.05718998983502388, 0.08605413138866425, -0.05250578746199608, -0.013954981230199337, 0.011737347580492496, 0.01339746080338955, -0.04730528965592384, -0.054167378693819046, 0.046272534877061844, -0.025897018611431122, 0.015141535550355911, 0.03389451280236244, -0.0037826106417924166, -0.057604335248470306, -0.01600823365151882, 0.024273904040455818, 0.033736128360033035, -0.01968214102089405, -0.02534639835357666, -0.04756170138716698, -0.056875552982091904, -0.022819435223937035, 0.03831876441836357, -0.017833122983574867, 0.0135964285582304, 0.0007859896286390722, 0.009740108624100685, 0.03342989832162857, -0.02601337619125843, -0.00738569675013423, 0.03564509376883507, -0.026853274554014206, -0.07536249607801437, -0.026698386296629906, -4.464574196855096e-33, -0.03316465765237808, 0.014170371927320957, -0.03929094225168228, -0.03463191166520119, -0.005886712111532688, -0.01182117685675621, 0.015395132824778557, 0.011847361922264099, 0.010775688104331493, 0.03621402755379677, 0.00787954218685627, -0.02318454533815384, 0.010762316174805164, 0.01723463460803032, 0.0009541756007820368, 0.028364019468426704, 0.023741932585835457, -0.014805787242949009, 0.0012419952545315027, 0.003523541847243905, 0.0233735591173172, 0.05583077296614647, 0.05383275821805, -0.037407878786325455, -0.021180542185902596, 0.00015272079326678067, -0.007277870085090399, 0.005505585577338934, 0.030582360923290253, 0.04546334594488144, -0.033578697592020035, 0.031614236533641815, -0.0025639391969889402, 0.039635561406612396, -0.01475736778229475, 0.05671676993370056, -0.05627875402569771, -0.00504600303247571, 0.03561548516154289, -0.027619896456599236, -0.023229248821735382, -0.04632917791604996, -0.03709199279546738, -0.04231889918446541, 0.03703070804476738, 0.00788719393312931, 0.03851763531565666, 0.001747764297761023, 0.005627615377306938, 0.006181119941174984, -0.0690268725156784, -0.009429625235497952, -0.007746721152216196, 0.016835004091262817, 0.012276778928935528, 0.022640634328126907, 0.012100889347493649, 0.011174339801073074, 0.012153908610343933, -0.011686213314533234, -0.04416126385331154, 0.023004714399576187, 0.022067246958613396, -0.058750446885824203, -0.039642829447984695, 0.06831356137990952, -0.03299481421709061, -0.03667748346924782, -0.035365473479032516, 0.017618505284190178, 0.006956418976187706, 0.059269264340400696, 0.04121561720967293, 0.07981091737747192, -0.005365641321986914, 0.011423900723457336, -0.02963886968791485, -0.011541183106601238, 0.02228127419948578, 0.007931848056614399, 0.026035597547888756, 0.012821190059185028, 0.01713455095887184, -0.006901867222040892, -0.010760358534753323, 0.013571444898843765, -0.0009907841449603438, -0.06160758435726166, 0.0440513975918293, -0.0008265930810011923, -0.02783406898379326, -0.012361937202513218, 0.01346294954419136, -0.03857453167438507, 0.0010870378464460373, 0.021871257573366165, -0.03323987126350403, 0.01846160739660263, -0.005101106129586697, 0.03746652603149414, -0.0036754461470991373, -0.02192465029656887, -0.004964823834598064, -0.009598402306437492, 0.023359140381217003, 0.010487682186067104, 0.04387218505144119, -0.015142425894737244, -0.06303092837333679, 0.008232587948441505, -0.010913081467151642, -0.04064098373055458, -0.06216913461685181, 0.02213260345160961, -0.027143428102135658, 0.04055395349860191, -0.008094497956335545, -0.0017640902660787106, 0.030152643099427223, -0.005422635935246944, -0.046982184052467346, -0.017376897856593132, 0.04116307199001312, 0.03206348791718483, -0.022294415161013603, -0.015816207975149155, -0.04507206380367279, 0.05694863200187683, 0.047159597277641296, -0.057805851101875305, 0.013247528113424778, -0.004712892696261406, 1.668244635766314e-07, 0.0481090322136879, 0.05036276951432228, 0.05452632158994675, 0.020756883546710014, -0.011908082291483879, -0.006374932359904051, 0.0052636610344052315, 0.07219494879245758, -0.02217632718384266, 0.022010302171111107, -0.0009904673788696527, -0.013716361485421658, 0.006892042234539986, 0.02469128742814064, -0.13946203887462616, 0.002569821197539568, -0.04648265242576599, -0.04049675911664963, -0.06085556000471115, -0.015321312472224236, 0.1361299306154251, 0.0945035070180893, 0.042574189603328705, 0.04671314358711243, -0.023067791014909744, -0.012096614576876163, 0.03866729512810707, 0.0021164969075471163, -0.025147367268800735, -0.011507627554237843, -0.03465065360069275, -0.022953346371650696, -0.006338493898510933, -0.030517596751451492, -0.015623655170202255, 0.013951425440609455, 0.0003274571499787271, 0.0020032268948853016, 0.004151047673076391, -0.02229248359799385, -0.03625898435711861, -0.02365793101489544, -0.018781740218400955, -0.019628891721367836, 0.04521261900663376, -0.08125684410333633, -0.021456919610500336, -0.04415431618690491, -0.02684754692018032, 0.02019742876291275, 0.0028299549594521523, -0.019501162692904472, -0.03453309088945389, 0.022691387683153152, 0.0378325991332531, -0.010254421271383762, -0.0021975766867399216, -0.0896744579076767, -0.04500311240553856, 0.008097018115222454, -0.020580556243658066, -0.020299864932894707, -0.020992234349250793, -0.01794048771262169, 0.0581897608935833, -0.007636530324816704, 0.015084740705788136, 1.782797550757165e-34, 0.04861792176961899, 0.042222827672958374, 0.04715957120060921, 0.05890476703643799, 0.039978545159101486, -0.05270714685320854, 0.015690531581640244, -0.0005250899703241885, 0.011365214362740517, -0.06564106047153473, -0.022084932774305344]\n",
      "len_embedding :  768\n",
      "embedding :  [0.04317179694771767, -0.05387020856142044, -0.03780445456504822, 0.04272361472249031, -0.023540876805782318, 0.0344860702753067, 0.02895868569612503, 0.0019281660206615925, 0.024173326790332794, -0.03170128911733627, 0.07328559458255768, 0.012559025548398495, 0.03646204620599747, -0.0205251295119524, 0.028197377920150757, -0.06873293220996857, 0.04222312942147255, 0.0009317414369434118, 0.0354035384953022, 0.014178754761815071, 0.007839958183467388, 0.023117903620004654, -0.004847364500164986, 0.01071739848703146, 0.0043949042446911335, 0.00547801423817873, -0.03803388029336929, -0.0030549003276973963, 0.005722296889871359, -0.06782142072916031, -0.048800766468048096, -0.014503232203423977, 0.006680120248347521, -0.07174795866012573, 1.646448481551488e-06, 0.010756443254649639, -0.03609229624271393, -0.023705707862973213, -0.052279144525527954, 0.03461106866598129, -0.005421758163720369, 0.016261160373687744, 0.0196564681828022, 0.022539600729942322, -0.0022600083611905575, 0.04063420742750168, 0.08171576261520386, 0.024817952886223793, 0.05318848043680191, 0.0782715305685997, -0.019181378185749054, -0.019408710300922394, -0.026280514895915985, -0.02440829388797283, 0.05494057014584541, 0.01903187297284603, 0.01608114317059517, -0.026889542117714882, -0.00824692938476801, 0.07334449142217636, 0.0100123081356287, 0.029331566765904427, 0.003428594209253788, -0.021327028051018715, -0.0016244309954345226, -0.005562525242567062, -0.07648800313472748, -0.05854504927992821, -0.028227221220731735, 0.007518479600548744, 0.07112259417772293, 0.0019545629620552063, 0.005459293257445097, 0.003223204053938389, 0.05127999186515808, -0.035410620272159576, -0.050360843539237976, 0.04705192148685455, 0.005154785234481096, 0.015228742733597755, -0.010668056085705757, 0.031629856675863266, -0.009090406820178032, -0.040132761001586914, -0.04352360591292381, -0.01949693262577057, 0.01656048186123371, -0.047116901725530624, -0.03920915722846985, -0.030775675550103188, -0.029416747391223907, -0.04208267107605934, 0.002270711353048682, -0.02783293090760708, 0.016942188143730164, 0.007744988426566124, -0.052374184131622314, -0.045004043728113174, 0.03836052492260933, -0.04907868057489395, 0.05066191032528877, 0.010161553509533405, -0.012502157129347324, -0.004645548295229673, -0.015454000793397427, 0.01588623784482479, 0.01183704286813736, -0.035923272371292114, -0.07762256264686584, 0.034335870295763016, -0.021470988169312477, -0.06860986351966858, -0.054623644798994064, 0.07839018106460571, -0.030070265755057335, -0.033755045384168625, -0.04049988090991974, 0.048051562160253525, 0.009539024904370308, 0.023139940574765205, -0.08161155879497528, -0.006516963243484497, 0.015421327203512192, 0.07042577862739563, -0.012506906874477863, -0.024826684966683388, -0.017132868990302086, 0.006131102796643972, 0.054441262036561966, -0.014056630432605743, -0.0062451413832604885, 0.03657880425453186, 0.07362306863069534, -0.006056845188140869, -0.03616305813193321, -0.001422013621777296, 0.04431659355759621, -0.003145157126709819, 0.03187679126858711, -0.013094775378704071, -0.036952465772628784, -0.0049802991561591625, 0.0013001777697354555, -0.020521361380815506, 0.02062772773206234, 0.005938705988228321, -0.0030716604087501764, -0.03975129872560501, 0.04298903048038483, 0.06498026847839355, -0.06760222464799881, 0.05416558310389519, 0.0015256097540259361, -0.03729088604450226, -0.040242720395326614, -0.02287725731730461, 0.13176976144313812, 0.0048787579871714115, 0.013947078958153725, 0.04924355447292328, 0.024921927601099014, -0.008760917000472546, -0.005387685727328062, -0.026559581980109215, -0.011976637877523899, -0.023200690746307373, -0.026743413880467415, 0.00566911930218339, 0.022172193974256516, 0.04672940447926521, -0.05784875899553299, 0.08221206814050674, -0.0033683523070067167, 0.08096477389335632, 0.01414233073592186, 0.10239308327436447, -0.005768353585153818, -0.01158772874623537, 0.04905848950147629, 0.05878298357129097, 0.06500308960676193, 0.04746218025684357, -0.0289464108645916, -0.0017658364959061146, 0.033256128430366516, 0.02911982871592045, 0.06038112938404083, 0.00037352993967942894, 0.01065761223435402, -0.05962846055626869, -0.07286016643047333, 0.029507996514439583, 0.00954465288668871, -0.027154263108968735, -0.05633048340678215, 0.0009667124832049012, -0.04777293652296066, 0.04675768315792084, 0.004872565157711506, -0.06575196236371994, -0.014224855229258537, 0.03998729959130287, -0.010979697108268738, 0.07689417153596878, -0.04000040516257286, 0.029682613909244537, 0.02813033200800419, -0.0555424839258194, 0.0063126301392912865, 0.05004505068063736, 0.018988417461514473, 0.05386839061975479, -0.019598154351115227, 0.010860101319849491, 0.016415057703852654, 0.014413515105843544, 0.017144886776804924, 0.021762492135167122, -0.049886297434568405, 0.01561051420867443, 0.0048373849131166935, 0.018705368041992188, -0.003185432171449065, 0.026686323806643486, 0.055555280297994614, -0.048800576478242874, -0.030292924493551254, 0.025211036205291748, 0.01072649285197258, 0.018827049061655998, -0.015068808570504189, 0.034383222460746765, 0.04151250422000885, 0.01377886813133955, -0.05548490211367607, 0.014384879730641842, -0.058813951909542084, -0.06016770750284195, 0.026985639706254005, -0.054613031446933746, 0.008146367967128754, -0.011775799095630646, 0.0157442819327116, 0.001439052983187139, -0.02645547315478325, -0.04488765075802803, 0.043973278254270554, -0.00010620084503898397, -0.02259058505296707, 0.030029654502868652, 0.01974404789507389, 0.0074407607316970825, -0.01937897689640522, 0.00809798575937748, 0.04348600283265114, -0.00010863433999475092, -0.03772257640957832, 0.026719601824879646, -0.04631572961807251, -0.0015340575482696295, 0.008053123950958252, -0.0430900976061821, -0.021384887397289276, 0.012018545530736446, 0.008414037525653839, 0.0024827243760228157, -0.030956702306866646, -0.09052780270576477, -0.047669392079114914, 0.012260635383427143, -0.013646694831550121, -0.0263654924929142, -0.007655498571693897, 0.008723781444132328, 0.026572488248348236, 0.0008400176302529871, -0.005559259094297886, -0.009295386262238026, 0.0319337323307991, 0.059464678168296814, 0.018320554867386818, -0.07565467059612274, -0.055938929319381714, -0.012087089009582996, -0.031626101583242416, 0.03621872514486313, 0.007536077871918678, -0.06156540662050247, -0.023045893758535385, -0.0035166761372238398, 0.012333213351666927, -0.009676355868577957, 0.04968617111444473, -0.08422565460205078, 0.015239628963172436, -0.018244534730911255, 0.07704626023769379, 0.0928717628121376, 0.040372468531131744, 0.11173265427350998, -0.010327055118978024, -0.025455819442868233, 0.021315408870577812, -0.0011618462158367038, 0.0028260168619453907, 0.0506967231631279, -0.03136974200606346, -0.008142714388668537, 0.013838735409080982, 0.046688977628946304, 0.050967056304216385, 0.037715401500463486, -0.029498856514692307, 0.03606317937374115, -0.0026116520166397095, 0.0002722647332120687, -0.06718070060014725, -0.06540262699127197, -0.034359075129032135, 0.019106745719909668, 0.04132940620183945, -0.01109706237912178, 0.04519517719745636, -0.05935657024383545, 0.010696368291974068, -0.0182229932397604, -0.05658143386244774, 0.012038654647767544, 0.04447740316390991, 0.018704991787672043, 0.016381001099944115, 0.05511505529284477, -0.022333241999149323, 0.02128617651760578, -0.012034009210765362, 0.03267529979348183, 0.014700452797114849, -0.008166823536157608, 0.011290479451417923, -0.030062038451433182, -0.023434586822986603, -0.026864608749747276, -0.0012872029328718781, -0.07671896368265152, 0.0022260835394263268, -0.005894759204238653, 0.0263103898614645, 0.002071280963718891, -0.06911517679691315, -0.014379209838807583, 0.02687881886959076, -0.03515398129820824, -0.026961207389831543, 0.002547164913266897, -0.06488819420337677, 0.03187284991145134, 0.017012670636177063, -0.04540042579174042, -0.018061621114611626, -0.01611161231994629, 0.05707738921046257, -0.0027827140875160694, -0.06455854326486588, 0.07865981757640839, 0.02290751226246357, 0.006818393711000681, -0.009117397479712963, -0.0227726511657238, -0.047652628272771835, 0.04884306341409683, -0.020989177748560905, -0.024369366466999054, -0.005012115929275751, 0.06702537834644318, 0.006913710851222277, 0.022584274411201477, 0.02511252835392952, -0.006925060413777828, 0.008593972772359848, 0.023897727951407433, 0.03297383710741997, -0.1053105890750885, 0.012209465727210045, -0.012226366437971592, -0.05737689137458801, 0.018431173637509346, 0.029715832322835922, -0.06094290316104889, -0.06552564352750778, 0.03557128459215164, 0.005643199197947979, 0.003346459474414587, -0.03596869483590126, -0.00883416272699833, -0.06978951394557953, 0.068977952003479, -0.004882146138697863, 0.022399529814720154, -0.03160533308982849, -0.0074118440970778465, 0.03193511441349983, -0.05187883973121643, 0.02116013690829277, -0.05033399537205696, 0.009105762466788292, 0.02133546955883503, 0.01668381504714489, 0.03490203246474266, -0.06384999305009842, -0.006756271701306105, -0.012740512378513813, -0.04633664712309837, -0.011477994732558727, 0.020877856761217117, 0.02448221854865551, 0.0036646202206611633, -0.002860975218936801, 0.022939041256904602, 0.021374600008130074, -0.03489010035991669, -0.030038783326745033, 0.04788705334067345, 0.05833706632256508, -0.009704974479973316, 0.013823451474308968, -0.032748594880104065, -0.0008114820811897516, 0.009542275220155716, 0.01204014103859663, 0.019723007455468178, -0.0004748706996906549, -0.013922618702054024, -0.05210702121257782, -0.017559275031089783, -0.05416984483599663, -0.01179701928049326, -0.017103055492043495, -0.03501949831843376, 0.033866140991449356, -0.06765873730182648, -0.02276066690683365, 0.019560709595680237, 0.055024947971105576, 0.012202882207930088, -0.001751694013364613, 0.007224445231258869, 0.01163501013070345, -0.0161907859146595, -0.03377552330493927, 0.032262708991765976, -0.020381370559334755, -0.02338596060872078, -0.012999193742871284, -0.016679920256137848, 0.010307086631655693, -0.014603020623326302, -0.07790707796812057, -0.08258123695850372, -0.03388099744915962, 0.038111425936222076, 0.007860059849917889, 0.02414550632238388, -0.02757151611149311, 0.01308669988065958, -0.007885907776653767, 0.017865117639303207, 0.053732309490442276, -0.030182378366589546, 0.016945552080869675, 0.011957159265875816, 0.00035258723073638976, 0.0490209199488163, -0.00857210997492075, 0.0017127027967944741, 0.004838769789785147, -0.041008125990629196, -0.04681207239627838, -0.0023255760315805674, -0.05167762562632561, 0.031003043055534363, 0.016096146777272224, -0.010080338455736637, -0.0037248325534164906, -0.03533880040049553, 0.029596159234642982, 0.028909694403409958, -0.07599121332168579, -0.05029807239770889, -0.0211783517152071, 0.03204623982310295, -0.038453880697488785, 0.024510299786925316, -0.020418813452124596, 0.006021082866936922, -0.009819403290748596, 0.037477802485227585, 0.03408389165997505, 0.012886425480246544, 0.05673426017165184, -0.0809704065322876, -0.008936083875596523, 0.013335258699953556, -0.025156594812870026, 0.002584124216809869, -0.06518030911684036, 0.013439999893307686, -0.020468221977353096, 0.006533803418278694, 0.00456975307315588, 0.01992710679769516, -0.06073404476046562, 0.014069176279008389, -0.05753340944647789, 0.009798063896596432, 0.03553931787610054, -0.024528326466679573, -0.004733106587082148, -0.02774929441511631, 0.023428255692124367, -8.762429206399247e-05, 0.007304413244128227, 0.014202885329723358, 0.04928073287010193, -0.03165404126048088, -0.013490200974047184, 0.030848780646920204, 0.028040198609232903, -0.043306879699230194, -0.04422840476036072, 0.03807392716407776, 9.479503205511719e-05, -0.04348965734243393, 0.014386853203177452, 0.0024432644713670015, -0.04840735346078873, 0.010895563289523125, -0.009874876588582993, 0.04592956602573395, 0.03963794559240341, -0.026011697947978973, 0.0248134545981884, -0.05371496453881264, 0.05628247559070587, 0.008813618682324886, 0.05250769481062889, -0.014737118035554886, -0.017438123002648354, 0.03450842201709747, 0.037552375346422195, -0.047016751021146774, -0.019491132348775864, 0.03826320543885231, -0.056759580969810486, -0.0017861122032627463, 0.02334037981927395, -5.8821630785971724e-33, -0.04871881753206253, -0.027626561000943184, -0.03382405638694763, 0.02661884017288685, -0.033927686512470245, -0.008491942659020424, -0.019125042483210564, 0.030025221407413483, 0.0340782068669796, 0.051115747541189194, -0.019247984513640404, 0.028564250096678734, 0.03660402446985245, 0.01688586175441742, 0.04772580415010452, 0.012380209751427174, 0.02148442529141903, 0.0004936297773383558, 0.012127385474741459, -0.05821440741419792, 0.01629543863236904, -0.007142604794353247, 0.04800919443368912, 0.02511906810104847, 0.04600978642702103, -0.022984033450484276, -0.020569676533341408, -0.0032223083544522524, 0.040009189397096634, 0.03523104637861252, -0.03431539982557297, 0.0027563476469367743, -0.012513863854110241, 0.01976865343749523, 0.005534890107810497, 0.10374459624290466, 0.005776116158813238, -0.05654266104102135, 0.041955847293138504, -0.03788303583860397, -0.039344340562820435, -0.062430962920188904, -0.0022439768072217703, -0.054654888808727264, 0.04561346024274826, -0.005692429840564728, 0.033891696482896805, -0.014444760978221893, 0.002721085213124752, 0.0111191775649786, -0.05006612092256546, -0.01611272245645523, 0.0017282136250287294, 0.06888779997825623, 0.011649292893707752, 0.02831711247563362, 0.006971924100071192, 0.026837201789021492, -0.00772086763754487, 0.0216828566044569, 0.011518287472426891, 0.08728321641683578, -0.006272735074162483, -0.06444736570119858, -0.01582338474690914, 0.04032685607671738, -0.016972867771983147, -0.016118861734867096, -0.037557702511548996, 0.0702938437461853, -0.033048633486032486, 0.04663240164518356, 0.011802826076745987, 0.06510750204324722, -0.01169795822352171, -0.008283458650112152, -0.054690491408109665, -0.020022667944431305, 0.0008427036809735, -0.00819525495171547, 0.020835688337683678, 0.013745457865297794, -0.001299241092056036, -0.039457522332668304, -0.020018452778458595, -0.015372129157185555, 0.011727184988558292, -0.04401112720370293, 0.053926754742860794, -0.023301078006625175, -0.022421104833483696, -0.003652190323919058, 0.029221350327134132, 0.00756441242992878, -0.029092317447066307, 0.040151793509721756, -0.020085357129573822, -0.0017986249877139926, -0.012623605318367481, 0.02510768361389637, -0.0469285324215889, -0.03085547685623169, -0.00036335590993985534, 0.006017887499183416, 0.039750877767801285, 0.013854787684977055, 0.024977434426546097, 0.017697621136903763, -0.0931573361158371, -0.009836887009441853, 0.008449231274425983, -0.019539102911949158, -0.03265693783760071, 0.0051374174654483795, 0.005809279158711433, 0.0208536796271801, -0.005978341680020094, 0.05868105962872505, -0.014949668198823929, -0.057296548038721085, -0.005982378497719765, 0.0019520920468494296, 0.0027297756168991327, 0.006069945637136698, -0.020052537322044373, -0.013168823905289173, -0.04062288999557495, 0.056899748742580414, 0.04449688643217087, -0.012430809438228607, 0.019696766510605812, 0.03809792175889015, 2.3023764583740558e-07, 0.011057505384087563, 0.047951314598321915, 0.061829861253499985, 0.04402783513069153, 0.006176670081913471, 0.0025829083751887083, 0.03389139100909233, -0.005329374223947525, -0.02592838555574417, -0.012614377774298191, 0.024649521335959435, -0.0016877353191375732, 0.001179035403765738, 0.024044353514909744, -0.09773097932338715, 0.019736748188734055, -0.055292047560214996, -0.061742477118968964, -0.04871516674757004, 0.0011108808685094118, 0.11873208731412888, 0.08132581412792206, 0.033244892954826355, 0.04383271560072899, -0.024955950677394867, -0.03596266359090805, 0.016631966456770897, 0.005937656853348017, -0.014397202990949154, 0.00446708407253027, -0.06019865348935127, -0.05659118667244911, -0.008215393871068954, 0.005830603186041117, -0.016948215663433075, 0.009586343541741371, 0.014673367142677307, 0.05058456212282181, 0.030689118430018425, 0.06604686379432678, -0.025655163452029228, -0.027885809540748596, -0.03191737085580826, -0.033923640847206116, 0.014990299940109253, -0.030333634465932846, -0.006064941640943289, -0.004817714914679527, 0.017213713377714157, -0.008233711123466492, 0.015554784797132015, 0.02691067010164261, 0.005443067755550146, -0.010689928196370602, -0.007821392267942429, -0.04445071145892143, 0.025587424635887146, -0.057476069778203964, -0.02054433524608612, -0.03078499436378479, -0.015785524621605873, -0.0070753926411271095, -0.042131245136260986, 0.03799338638782501, 0.06277652829885483, -0.007677924353629351, -0.03183531016111374, 1.9927779203955992e-34, 0.010483433492481709, -0.0339326485991478, 0.039382144808769226, 0.05530658736824989, 0.00942168664187193, 0.01097283698618412, -0.049193933606147766, 0.029502447694540024, -0.00885373167693615, -0.05962489917874336, -0.02378256805241108]\n",
      "len_embedding :  768\n",
      "embedding :  [-0.029861126095056534, -0.013752204366028309, -0.047540243715047836, 0.027212657034397125, 0.03400535508990288, 0.03164663165807724, 0.04269641265273094, 0.0032980083487927914, 0.0435718409717083, 0.025383703410625458, 0.030252892524003983, 0.03211309015750885, -0.03999127075076103, 0.012876157648861408, 0.06702197343111038, -0.0792899951338768, 0.04687723517417908, 0.02402668260037899, -0.020799772813916206, -0.010743353515863419, -0.01194110605865717, -0.053929105401039124, 0.04210551455616951, 0.02235879749059677, -0.029894979670643806, 0.0083597581833601, 0.01583852432668209, -0.048023663461208344, 0.0018843788420781493, -0.016752157360315323, -0.021562863141298294, -0.038848865777254105, 0.03062739595770836, 0.04205259308218956, 1.69483348599897e-06, -0.018692893907427788, -0.012455837801098824, 0.013212889432907104, -0.048903945833444595, 0.013474618084728718, 0.0228873360902071, 0.008817847818136215, 0.008649283088743687, -0.020095007494091988, -0.031521763652563095, -0.02534332498908043, 0.07573185116052628, 0.0362447053194046, 0.012529013678431511, 0.03096953220665455, 0.004507595207542181, -0.03500426560640335, -0.0004424579965416342, -0.009766493923962116, 0.060454558581113815, 0.040347225964069366, 0.0110735222697258, 0.006561987567692995, -0.005845946725457907, 0.003797847079113126, -0.04469145089387894, 0.01764051243662834, 0.024591688066720963, -0.0036004313733428717, 0.10247334092855453, 0.03737584128975868, 0.006133112125098705, -0.022467700764536858, 0.014648234471678734, 0.0500536672770977, -0.022990748286247253, 0.011292487382888794, -0.031055238097906113, -0.01495093759149313, -0.002531294943764806, 0.03209453821182251, -0.04670562595129013, -0.048588696867227554, 0.029830647632479668, 0.06442154943943024, -0.03126130998134613, 0.035740699619054794, 0.04165268689393997, -0.05525174364447594, -0.008746217004954815, -0.021863024681806564, -0.011274414137005806, -0.021443640813231468, -0.013282365165650845, -0.02048657462000847, -0.010057645849883556, 0.03547639027237892, -0.007476047147065401, -0.037018824368715286, 0.057789307087659836, -0.02181689627468586, 0.004362283740192652, 0.020438052713871002, 0.03368149325251579, -0.04928009957075119, 0.04827934503555298, -0.001810046611353755, -0.010511869564652443, 0.041332319378852844, -0.06798340380191803, 0.017571590840816498, -0.04434125870466232, 0.009908423759043217, -0.03818092495203018, 0.011082759127020836, -0.050728023052215576, -0.021745136007666588, -0.010383653454482555, 0.046033307909965515, 0.015586286783218384, -0.04213668406009674, -0.027214612811803818, 0.03228190168738365, -0.042473964393138885, 0.027120713144540787, -0.07410616427659988, 0.04201073944568634, 0.02024383470416069, 0.07318112999200821, -0.008976972661912441, -0.023116014897823334, -0.03935592249035835, -0.014600859023630619, -0.03309102728962898, 0.011223975569009781, 0.0025856958236545324, -0.004368524067103863, 0.01858554407954216, 0.02699347212910652, -0.016721531748771667, 0.03695697337388992, 0.044448912143707275, -0.022172333672642708, 0.0067296335473656654, 0.012293543666601181, 0.017175879329442978, -0.002364787505939603, 0.0372263565659523, -0.022287018597126007, 0.029460327699780464, -0.023369157686829567, 0.005384690128266811, -0.030658183619379997, -0.023892022669315338, -0.02636146917939186, -0.020178889855742455, 0.11124557256698608, -0.01998361572623253, -0.035403069108724594, 0.0384143628180027, 0.025306932628154755, 0.01995515264570713, 0.05535181984305382, -0.019933270290493965, -0.002167196711525321, 0.04910925775766373, -0.040353044867515564, -0.011697744950652122, -0.05331132188439369, 0.008295873180031776, -0.05082517862319946, -0.026550399139523506, -0.015324289910495281, 0.005788171198219061, 0.0024658148176968098, -0.03444501385092735, -0.0018512826645746827, -0.0395730584859848, -0.027169015258550644, 0.04935687035322189, 0.08383685350418091, 0.05434921011328697, 0.08222613483667374, 0.012389394454658031, -0.004797963425517082, 0.000777404522523284, 0.02984863892197609, -0.018558397889137268, 0.0598796047270298, -0.006827929988503456, 0.000978128402493894, 0.028548521921038628, -0.007646218873560429, -0.018662016838788986, -0.02692875638604164, -0.02903326041996479, -0.013787169940769672, -0.0025759865529835224, -0.022017337381839752, -0.017082147300243378, -0.038184262812137604, 0.022150566801428795, -0.03592338413000107, -0.011944003403186798, -0.03183075413107872, -0.04808010533452034, 0.009776369668543339, -0.001048601814545691, 0.041537098586559296, -0.011097440496087074, -0.04728304222226143, 0.01909845881164074, -0.05311772972345352, 0.02113255485892296, -0.0025306865572929382, 0.056105516850948334, -0.013379552401602268, -0.005958660040050745, -0.012030798941850662, 0.0463930144906044, -0.02819087728857994, 0.02253553457558155, -0.0025047115050256252, -0.035245269536972046, 0.025549516081809998, 0.009103949181735516, 0.0032521479297429323, 0.0025597328785806894, -0.012562447227537632, -0.03514967858791351, -0.042894672602415085, -0.002323326887562871, 0.0241021029651165, -0.005168371833860874, 0.016874020919203758, 0.0055264621041715145, 0.02367919310927391, 0.05651644617319107, -0.0347868874669075, -0.06345181912183762, -0.007456288207322359, -0.017844852060079575, 0.053589776158332825, 0.026729175820946693, -0.08741993457078934, 0.0104196323081851, -0.0004139487282373011, -0.003044480225071311, 0.009142455644905567, 0.029153045266866684, -0.05818314850330353, 0.0683462992310524, -0.040861837565898895, -0.009097850881516933, -0.03407701104879379, 0.03524116426706314, -0.010262801311910152, -0.0005724745569750667, -0.002734483452513814, 0.015963546931743622, 0.004490663297474384, -0.02090517245233059, 0.03027697652578354, 0.02461191825568676, -0.014406772330403328, 0.01732700504362583, 0.0019903858192265034, 0.04230520501732826, -0.0239176657050848, -0.032554741948843, -0.014593984000384808, 0.0395100936293602, -0.06046499311923981, -0.030206546187400818, 0.01671898178756237, -0.022681718692183495, -0.026195501908659935, -0.055131953209638596, 0.014490840025246143, -0.019924627617001534, 0.003997506573796272, 0.03126099333167076, -0.04907279089093208, -0.0009497550199739635, 0.05394972488284111, -0.009100806899368763, -0.026948602870106697, -0.036315854638814926, -0.01384368073195219, -0.0445621982216835, 0.05493592470884323, 0.0021759653463959694, 0.0022344207391142845, -0.00523010641336441, -0.014789385721087456, 0.03605923801660538, 0.014526347629725933, 0.008391963317990303, -0.061036016792058945, -0.007899553515017033, -0.002982941921800375, 0.0035656606778502464, 0.083399198949337, -0.026121512055397034, 0.08067216724157333, 0.0036305382382124662, 0.016997436061501503, 0.02586045116186142, 0.0010944504756480455, -0.045706361532211304, 0.05556788668036461, 0.02006439119577408, 0.04766613990068436, -0.04910532012581825, -0.01860816590487957, 0.0334404893219471, -0.0257310438901186, -0.003163663437590003, 0.07214441150426865, -0.016151918098330498, -0.013393310829997063, -0.06062941625714302, -0.028218718245625496, -0.008919302374124527, -0.0027117407880723476, 0.008049185387790203, -0.04952089861035347, 0.07894343882799149, 0.027642833068966866, -0.005425815004855394, -0.003067255252972245, -0.04118265584111214, 0.013917198404669762, 0.030425315722823143, 0.010285613127052784, 0.010667890310287476, -0.055655401200056076, -0.017508316785097122, 0.02038688212633133, 0.008433086797595024, 0.03824712336063385, -0.03891000896692276, -0.016130397096276283, 0.03180595859885216, -0.07329700142145157, -0.01765025220811367, -0.047987405210733414, -0.055504217743873596, -0.005007487256079912, 0.00044681879808194935, 0.03573330491781235, -0.0008247110527008772, -0.03343241661787033, -0.03324170783162117, -0.024646056815981865, 0.02153322473168373, 0.003908626735210419, 0.02534715086221695, 0.006029935088008642, -0.007816063240170479, 0.01237656269222498, -0.01710391975939274, 0.02681025303900242, 0.0028367205522954464, -0.012764331884682178, 0.10051091760396957, 0.010358044877648354, -0.035514332354068756, 0.015661628916859627, -0.09859495609998703, 0.0458441786468029, -0.031523093581199646, -0.02357815019786358, -0.027835071086883545, -7.757094863336533e-05, -0.028236335143446922, -0.019291870296001434, 0.018739009276032448, 0.057194095104932785, 0.025691203773021698, -0.03200302645564079, 0.019907407462596893, -0.03158198669552803, -0.040206220000982285, 0.057763051241636276, 0.017297400161623955, -0.05370142310857773, -0.012532557360827923, -0.01454844232648611, -0.057617511600255966, 0.010972770862281322, -0.020472854375839233, 0.028554093092679977, -0.05043996497988701, 0.043699104338884354, 0.01757112145423889, -0.010234391316771507, -0.09697718173265457, -0.029999490827322006, -0.028667911887168884, 0.022493669763207436, -0.016812091693282127, -0.014367361553013325, -0.00879591703414917, -0.016904396936297417, 0.024155842140316963, -0.06531932204961777, -0.04107997938990593, -0.02340591512620449, -0.06760648638010025, -0.015569102950394154, 0.03623580187559128, 0.07831604033708572, -0.04975172504782677, -0.07085483521223068, -0.050117917358875275, -0.0008564332383684814, 0.0054490091279149055, 0.00434698723256588, 0.09880530089139938, -0.02164151705801487, -0.018775073811411858, 0.011506997980177402, 0.026399582624435425, 0.0165235735476017, -0.02240580879151821, -0.043182678520679474, 0.13180392980575562, -0.02970346063375473, 0.026593433693051338, -0.01388883963227272, -0.016700387001037598, 0.034414611756801605, -0.0089435875415802, 0.06160011515021324, -0.03423032537102699, 0.0024641440249979496, -0.008140872232615948, 0.058032549917697906, 0.05242079868912697, -0.015328156761825085, 0.040138281881809235, 0.015140799805521965, -0.003014724235981703, -0.049702104181051254, -0.0042429957538843155, 0.05772886425256729, 0.03178736940026283, 0.047400835901498795, 0.029521826654672623, -0.01501226145774126, -0.024794576689600945, -0.07115020602941513, 0.02068478614091873, 0.03114875964820385, -0.005860671866685152, 0.01627872698009014, -0.039368245750665665, 0.05465055629611015, 0.03265947476029396, -0.018702147528529167, -0.09798629581928253, 0.004337676335126162, -0.05581573024392128, -0.01346207968890667, 0.028845369815826416, 0.015874814242124557, -0.03325647860765457, 0.0014441811945289373, -0.05511080101132393, 0.08246740698814392, 0.023884594440460205, -0.020483769476413727, -0.004785872995853424, 0.03787228837609291, -0.04875628650188446, 0.03446468710899353, 0.011035802774131298, 0.011245043948292732, 0.013326258398592472, -0.03463757783174515, -0.06922203302383423, 0.007301275618374348, -0.006570137105882168, 0.017320366576313972, 0.00523056834936142, 0.04481323063373566, 0.03898531198501587, -0.01992740109562874, -0.018092047423124313, 0.032593775540590286, -0.020202653482556343, 0.0004862132773268968, -0.008887527510523796, -0.019134845584630966, 0.02506859414279461, 0.04740205034613609, 0.002186556812375784, -0.016998855397105217, 0.03626716509461403, 0.0034624391701072454, 0.004219378810375929, 0.08041723817586899, 0.031062718480825424, -0.001049443962983787, -0.03554665669798851, 0.04348368942737579, -0.03062189742922783, -0.030319223180413246, -0.04131751134991646, -0.010525787249207497, -0.02352427877485752, -0.018677182495594025, 0.004429362714290619, 0.05450565740466118, -0.060501765459775925, 0.02484215795993805, -0.03369661048054695, -0.045416902750730515, -0.02631731517612934, 0.006980493199080229, 0.06928714364767075, -0.020449096336960793, -0.01968134380877018, -0.009725604206323624, -0.012156479060649872, 0.00789344497025013, 0.0018474464304745197, -0.06936515122652054, 0.024335704743862152, 0.040060896426439285, 0.03440132737159729, -0.02842818945646286, -0.010943125933408737, 0.013874214142560959, -0.004405870568007231, 0.0011934326030313969, -0.08811648190021515, 0.011593143455684185, -0.0256351288408041, 0.05575256794691086, 0.12694618105888367, 0.05395657941699028, -0.014143645763397217, 0.012719596736133099, -0.013223621062934399, -0.05944843217730522, 0.028670506551861763, 0.025728462263941765, -0.008337750099599361, 0.0008174058166332543, 0.005930520128458738, 0.03291100636124611, 0.04127516597509384, -0.00577961141243577, -0.017112450674176216, 0.010622752830386162, -0.021960129961371422, -0.04972071573138237, 0.02537655644118786, -5.602574685989968e-33, -0.013539750128984451, -0.03779589757323265, -0.0026792334392666817, -0.0003696837229654193, -0.01982678659260273, 0.0054704854264855385, 0.006026791874319315, 0.019306914880871773, 0.003879864700138569, 0.029769865795969963, -0.018822908401489258, 0.0022003413178026676, 0.008170216344296932, 0.016196541488170624, 0.03175288811326027, -0.006834215484559536, 0.021925227716565132, 0.00043771974742412567, 0.029685933142900467, -0.026255708187818527, 0.006493775174021721, 0.035602521151304245, 0.0015860706334933639, -0.04765838384628296, -0.052623894065618515, 0.03782743215560913, 0.03543417528271675, -0.031034808605909348, 0.007964047603309155, 0.054846931248903275, -0.035644326359033585, 0.00910134892910719, -0.00945987831801176, -0.04632871225476265, -0.016390623524785042, 0.06324531883001328, -0.013858851976692677, -0.05957247316837311, -0.015799077227711678, 0.020188789814710617, -0.019829336553812027, -0.03492117300629616, 0.022793766111135483, -0.059162165969610214, 0.04188542440533638, 0.001207442837767303, 0.051915865391492844, -0.018843593075871468, -0.031210195273160934, 0.02349327877163887, -0.0741029754281044, -0.0002766463439911604, -0.015172002837061882, 0.061171386390924454, 0.1250651478767395, -0.012845923192799091, -0.011267167516052723, 0.0015174858272075653, -0.08091530203819275, 0.011268922127783298, -0.01975742168724537, 0.027426812797784805, 0.009409859776496887, -0.009587574750185013, 0.025485066697001457, 0.06816587597131729, -0.01834527775645256, -0.10096393525600433, -0.009452491998672485, -0.0052700527012348175, 0.01986841671168804, 0.09808477014303207, 0.03156330808997154, 0.05304228886961937, 0.03751228004693985, -0.06642090529203415, -0.05928803235292435, -0.015707405284047127, 0.017660969868302345, -0.05810737609863281, 0.022323133423924446, 0.012986959889531136, -0.033026073127985, 0.0009968820959329605, -0.009870869107544422, -0.0312955304980278, 0.0022852516267448664, -0.049125008285045624, 0.014769339933991432, -0.018336739391088486, -0.04163052514195442, 0.037689752876758575, 0.033541008830070496, -0.07971114665269852, 0.04012999311089516, 0.015907172113656998, 0.005060868803411722, 0.042880862951278687, 0.022975997999310493, -0.04133511707186699, -0.03105030208826065, -0.05264049395918846, -0.04954051226377487, -0.02942563034594059, 0.05949241295456886, -0.025980304926633835, 0.03024972788989544, 0.0088041415438056, -0.048446688801050186, -0.020085152238607407, 0.009821739047765732, -0.07891939580440521, 0.004528869409114122, -0.009348972700536251, 0.009233079850673676, -0.03173622488975525, 0.02108331210911274, 0.006371230818331242, 0.03363476321101189, 0.03836134448647499, -0.045552805066108704, 0.0010811833199113607, -0.009833266027271748, 0.007701881695538759, -0.02876177243888378, -0.017495961859822273, -0.004278087057173252, 0.028128720819950104, 0.049733929336071014, -0.0745570957660675, -0.010700863786041737, -0.007660550065338612, 2.339688194297196e-07, 0.015248280949890614, 0.08396146446466446, 0.03672429919242859, -0.03692488372325897, 0.036475226283073425, 0.04264219105243683, -0.004398254211992025, 0.017813343554735184, -0.026707690209150314, -0.007138973101973534, 0.05599759519100189, 0.031396619975566864, 0.002134424401447177, 0.0390370637178421, -0.08785288780927658, -0.022166011855006218, -0.02477358840405941, -0.011819043196737766, -0.007897037081420422, -0.020885761827230453, 0.04305562376976013, 0.1076434999704361, 0.044061899185180664, 0.01479631569236517, 0.02448626421391964, -0.03862681984901428, 0.018074359744787216, -0.0014783873921260238, 0.07741671055555344, -0.04195655882358551, -0.038052916526794434, 0.03612582013010979, 0.0015904026804491878, 0.019532402977347374, -0.020008014515042305, 0.04225386679172516, 0.030611136928200722, -0.0035370055120438337, 0.005931089632213116, -0.02232237532734871, -0.02071315236389637, -0.003629181534051895, 0.017465408891439438, -0.0408758670091629, 0.05915949493646622, -0.05890990421175957, -0.039675429463386536, -0.03335287421941757, 0.010216200724244118, 0.00697292760014534, 0.07703898102045059, -0.018691154196858406, -0.018256844952702522, -0.024231931194663048, -0.0034069963730871677, -0.036055486649274826, 0.04333893582224846, -0.03486029431223869, 0.05277683213353157, 0.028971035033464432, -0.04984631389379501, -0.01947486586868763, 0.011639850214123726, -0.03046146035194397, 0.08046375960111618, 0.06562481820583344, -0.028453340753912926, 1.8161524325504877e-34, -0.004191538784652948, -0.02578825131058693, 0.05173199623823166, 0.049442097544670105, 0.013247632421553135, -0.04219938442111015, -0.01124587096273899, -0.026152027770876884, 0.0551130436360836, 0.02200254052877426, -0.025117063894867897]\n",
      "len_embedding :  768\n",
      "embedding :  [-0.022073112428188324, 0.020895058289170265, -0.06030057743191719, 0.00843949057161808, 0.04376507177948952, 0.015507067553699017, 0.049990735948085785, -0.03032323718070984, 0.049478426575660706, 0.023551156744360924, 0.032935045659542084, 0.01538776233792305, -0.06683551520109177, 0.11100286990404129, 0.06926766037940979, -0.02318890020251274, 0.037910331040620804, -0.0049414606764912605, -0.015780076384544373, -0.03454761952161789, -0.02650531567633152, -0.024787945672869682, -0.01861414685845375, 0.030036181211471558, -0.028118634596467018, -0.00875135138630867, -0.0033077169209718704, -0.020611640065908432, 0.010331572033464909, -0.01514835562556982, -0.034833092242479324, -0.02632482722401619, 0.02069077268242836, 0.037910956889390945, 1.8191286699220655e-06, -0.002442919183522463, -0.0018056277185678482, 0.005617639049887657, -0.027987025678157806, 0.015470313839614391, 0.0306457057595253, 0.037260133773088455, -0.015561150386929512, 0.025441426783800125, -0.06420721858739853, 0.03163528814911842, 0.0663442611694336, 0.038097042590379715, 0.05578448995947838, 0.053166016936302185, -0.009692946448922157, -0.03614242747426033, 0.03724348172545433, -0.004678265657275915, 0.05145757272839546, 0.010005764663219452, 0.004902886226773262, 0.014156260527670383, 0.04951000213623047, 0.003329511033371091, -0.032110076397657394, 0.04423874616622925, 0.032741595059633255, -0.00790619570761919, 0.10780978947877884, 0.07329445332288742, 0.033670246601104736, -0.042834553867578506, 0.010596634820103645, 0.020565401762723923, -0.020267022773623466, 0.0104964105412364, -0.019761545583605766, -2.891369877033867e-05, -0.026186248287558556, -0.01851741038262844, -0.03442692384123802, -0.0408620722591877, 0.02325718104839325, 0.021419579163193703, 0.01313213910907507, -0.03272111713886261, -0.019142579287290573, -0.028657205402851105, -0.011685935780405998, 0.012191098183393478, 0.010524870827794075, -0.033958472311496735, 0.0030890952330082655, -0.04448888078331947, 0.026510488241910934, 0.01095365546643734, 0.025145061314105988, -0.0064883106388151646, 0.004543627146631479, -0.020278500393033028, -0.010321597568690777, 0.020658986642956734, -0.016531361266970634, -0.024561217054724693, 0.05475495383143425, 0.026826161891222, 0.029551038518548012, 0.038675520569086075, -0.0776720643043518, 0.038005586713552475, -0.029836449772119522, 0.07968860864639282, -0.030094293877482414, 0.007578443270176649, -0.06898268312215805, -0.029266711324453354, -0.02355801686644554, 0.03481984883546829, 0.025293853133916855, -0.04538172855973244, -0.01579390838742256, 0.04390309751033783, -0.04043358191847801, 0.008325287140905857, -0.028466517105698586, 0.049493346363306046, 0.02412773109972477, 0.03021926060318947, -0.04995903745293617, -0.05945330858230591, -0.03701760247349739, 0.013033038005232811, -0.03364689275622368, 0.03455899655818939, -0.014452335424721241, 0.025764016434550285, 0.004611837211996317, 0.022155191749334335, -0.004934629425406456, 0.09660046547651291, -0.002724449150264263, 0.0005653454572893679, -0.03242489695549011, 0.013168157078325748, 0.044160742312669754, -0.007030554581433535, 0.06842607259750366, -0.022816665470600128, -0.002810347592458129, -0.042388297617435455, -0.013363211415708065, -0.059673845767974854, -0.006961236707866192, -0.02319011092185974, -0.03788509592413902, 0.09801866859197617, -0.02217286266386509, -0.023006290197372437, 0.032281480729579926, 0.008218063972890377, -0.007041196804493666, 0.04840794578194618, 0.042329128831624985, -0.0025971403811126947, 0.00012050725490553305, 0.016741443425416946, 0.029119761660695076, -0.012874087318778038, -0.02410777471959591, -0.032932039350271225, -0.0035029274877160788, -0.03193221986293793, -0.026417165994644165, 0.023040419444441795, 0.011163700371980667, -0.009959974326193333, -0.017590126022696495, -0.0020027842838317156, 0.012159470468759537, 0.04678233712911606, 0.05208819732069969, 0.07211721688508987, 0.019497785717248917, 0.011507228016853333, 0.005941609386354685, -0.014783404767513275, -0.02877240814268589, 0.06726665794849396, -0.01687588170170784, 0.005258757621049881, -0.03397388383746147, 0.05245962366461754, -0.02597930282354355, -0.04413798823952675, 0.0014745048247277737, -0.010659935884177685, -0.015185955911874771, -0.001558795920573175, 0.018150508403778076, -0.04854108765721321, 0.003679034998640418, -0.06593132019042969, -0.014941821806132793, -0.0323529876768589, -0.027994923293590546, 0.017185671254992485, -0.007870832458138466, 0.046569205820560455, 0.014712365344166756, -0.07404389977455139, -0.06521046161651611, -0.05227348953485489, -0.018234359100461006, 0.05208591744303703, 0.030630452558398247, -0.023603767156600952, 0.02423848584294319, -0.018394021317362785, -0.004830147605389357, -0.02133864164352417, 0.015658413991332054, 0.009873433969914913, -0.042556166648864746, 0.0060045914724469185, -0.00314498133957386, 0.004515176638960838, -0.0015277916099876165, 0.01137314923107624, -0.06963539868593216, -0.03372581675648689, 0.013340692967176437, 0.0048728566616773605, -0.007814866490662098, 0.047804925590753555, -0.015971174463629723, 0.03146064281463623, 0.051592063158750534, -0.040512215346097946, -0.050646066665649414, 0.009999345056712627, -0.020073004066944122, 0.042155250906944275, 0.030318286269903183, -0.10043122619390488, -0.04120200499892235, 0.03439909592270851, 0.0329209566116333, 0.0010740561410784721, 0.03709622472524643, -0.06942372024059296, 0.06523934006690979, 0.00831664353609085, 0.01680362969636917, -0.026070604100823402, 0.008145010098814964, -0.014800945296883583, -0.02656710147857666, 0.03293221816420555, -0.007375152315944433, 0.007239760830998421, -0.026932986453175545, 0.017175540328025818, -0.02280830405652523, -0.004753442481160164, 0.02885691449046135, 0.00013081201177556068, 0.054412875324487686, -0.014337891712784767, 0.018989142030477524, -0.013273229822516441, 0.040117789059877396, -0.07292751967906952, -0.02412109076976776, 0.03162172809243202, -0.016801439225673676, 0.008475451730191708, -0.0523940771818161, -0.01438827719539404, -0.014615638181567192, 0.006399113684892654, 0.021511366590857506, -0.05189606919884682, -0.04305766150355339, 0.023407574743032455, 0.002302732551470399, -0.024843452498316765, -0.04382434859871864, -0.021657036617398262, -0.06915957480669022, 0.017677035182714462, 0.021206719800829887, -0.022029388695955276, -0.010677298530936241, 0.009574230760335922, 0.022198891267180443, 0.05514710769057274, 0.010368315503001213, -0.08148245513439178, -0.007947064004838467, -0.018586665391921997, 0.012049436569213867, 0.07514031231403351, -0.014121582731604576, 0.0883924588561058, 0.031262870877981186, 0.00812259130179882, -0.022944452241063118, 0.039601054042577744, -0.020016802474856377, 0.09160277247428894, -0.020683906972408295, 0.05849909409880638, -0.0432368628680706, -0.004747452214360237, -0.009518877603113651, 0.005429483950138092, 0.00011916441144421697, 0.06153763458132744, -0.001687899581156671, -0.046632084995508194, -0.020140515640378, 0.013240606524050236, 0.009706836193799973, 0.027384767308831215, 0.030664000660181046, 0.00671584066003561, 0.08712209761142731, -0.0019736995454877615, 0.008182970806956291, 0.00544356182217598, -0.0576205737888813, 0.013482066802680492, 0.005062947049736977, -0.021056905388832092, 0.012593709863722324, -0.00549779599532485, -0.014464535750448704, -0.02925672009587288, 0.055329881608486176, -0.02600993774831295, -0.0028245311696082354, -0.023090189322829247, 0.008897082880139351, -0.026156533509492874, 0.0009086269419640303, -0.06162036955356598, -0.07564195990562439, -0.010593187995254993, -0.011956362053751945, 0.06714585423469543, -0.01962348446249962, -0.0500933937728405, -0.03912290185689926, -0.030700795352458954, 0.07189065963029861, 0.009292465634644032, -0.0063438620418310165, 0.0007869760738685727, -0.013648401945829391, 0.02871890179812908, 0.04012250527739525, 0.012803715653717518, 0.01773814857006073, -0.004759786184877157, 0.05471733957529068, 0.0011081121629104018, -0.0225790087133646, -0.002802850678563118, -0.11369609087705612, 0.025590471923351288, 0.0004004452202934772, -0.043981146067380905, 0.013631961308419704, -0.015413741581141949, -0.04990154132246971, -0.02328900434076786, -0.001629884704016149, 0.03958352655172348, 0.018904052674770355, -0.03027031570672989, 0.0271438080817461, 0.001056775450706482, -0.04210694506764412, 0.037196122109889984, 0.03542583808302879, -0.06982743740081787, -0.0220937542617321, -0.04014963656663895, -0.01901642419397831, -0.02698354981839657, -0.015121305361390114, 0.03333655372262001, -0.09748895466327667, 0.017310233786702156, 0.006210178602486849, -0.0025942714419215918, -0.1101529449224472, -0.061018627136945724, -0.013654960319399834, -0.013503525406122208, -0.06725738197565079, -0.00405120337381959, -0.006649837363511324, 0.003865677397698164, 0.009434704668819904, -0.038663651794195175, -0.019359290599822998, 0.013493413105607033, -0.045810673385858536, 0.060673732310533524, 0.060638029128313065, 0.04855965077877045, -0.045608844608068466, -0.05719365179538727, -0.01550943311303854, 0.03409629687666893, 0.0009481640299782157, -0.009943493641912937, 0.02846573293209076, -0.03290240466594696, -0.028321120887994766, 0.031990762799978256, 0.026129895821213722, -0.02740548737347126, -0.01363532617688179, 0.007477146107703447, 0.119430311024189, -0.04458070918917656, 0.010767120867967606, -0.08694242686033249, -0.021955108270049095, 0.01838749088346958, -0.010652144439518452, -0.018924294039607048, -0.030651355162262917, -0.030470186844468117, -0.032221470028162, 0.041215136647224426, 0.00895756296813488, -0.027318011969327927, 0.009399965405464172, -0.0009570993715897202, -0.019401006400585175, -0.04926231503486633, -0.009188883937895298, 0.04668941721320152, 0.05418930947780609, 0.022160952910780907, -0.028635188937187195, 0.05202958360314369, 0.024758916348218918, -0.07142685353755951, -0.012620659545063972, 0.007355211302638054, 0.02137846313416958, 0.02935143932700157, -0.02576514147222042, 0.052056293934583664, -0.027489203959703445, -0.031024271622300148, -0.09028797596693039, 0.06103714555501938, -0.05226098373532295, 0.02131117507815361, 0.04417352005839348, 0.03233709931373596, 0.017564790323376656, -0.023952020332217216, -0.026970941573381424, 0.05112782493233681, 0.026906538754701614, -0.045193254947662354, 0.002526558004319668, 0.024493401870131493, -0.028954118490219116, 0.027999281883239746, -0.01360226795077324, -0.0432368703186512, 0.018583042547106743, 7.636989903403446e-05, 0.002435161266475916, -0.003733232617378235, -0.017227960750460625, 0.010129278525710106, 0.019843745976686478, -0.02600182220339775, -0.003401772119104862, 0.010912553407251835, -0.04163634404540062, 0.03370317444205284, -0.028163516893982887, 0.01791263371706009, -0.04530952125787735, -0.010981980711221695, -0.002208239631727338, 0.019910287111997604, 0.03563721105456352, -0.031179945915937424, 0.037875231355428696, -0.014140916988253593, -0.02169068157672882, 0.027301978319883347, 0.0036982062738388777, 0.0635388121008873, 0.01226691622287035, -0.006022750865668058, -0.007607573177665472, -0.0186565350741148, -0.005647182464599609, -0.0022004996426403522, -0.013182542286813259, 0.016772476956248283, -0.03772645816206932, 0.029789509251713753, -0.05015696957707405, 0.04890880733728409, -0.06074446439743042, -0.08394184708595276, -0.05090012401342392, 0.018176784738898277, 0.06667324900627136, -0.003300383919849992, -0.002823961665853858, -0.05354068800806999, 0.03903413191437721, 0.021985283121466637, 0.03135554865002632, -0.033652711659669876, 0.019691376015543938, 0.016788393259048462, 0.050400301814079285, 0.003080602502450347, -0.0007247530738823116, 0.044290702790021896, -0.004129606299102306, 0.042932894080877304, -0.06625520437955856, 0.001160584855824709, -0.028171656653285027, 0.01568860560655594, 0.09781333059072495, 0.055359430611133575, -0.013937911950051785, 0.02123069204390049, -0.013095622882246971, -0.06820276379585266, -0.0008090423070825636, 0.04992920905351639, -0.026926547288894653, -0.029780423268675804, 0.03844621777534485, 0.019735390320420265, 0.033708833158016205, 0.016587382182478905, 0.005773179233074188, -0.030489781871438026, -0.015251174569129944, -0.0356159470975399, -0.008692203089594841, -5.422967965391954e-33, 0.003243708051741123, -0.03463297337293625, 0.03589329123497009, 0.018377108499407768, -0.021750496700406075, -0.032641179859638214, 0.0028839409351348877, 0.015046365559101105, -0.0017526147421449423, -0.019941896200180054, -0.006103491876274347, 0.02238471992313862, -0.0008789496496319771, 0.024868490174412727, 0.03397363796830177, 0.027559278532862663, 0.03377923741936684, 0.03985653445124626, 0.02555454894900322, 0.01830425299704075, -0.029287833720445633, 0.005180816166102886, 0.0008377920603379607, -0.036656081676483154, -0.03467328101396561, 0.038268718868494034, 0.0055082086473703384, -0.0435187965631485, 0.024407723918557167, 0.03541674092411995, -0.02134425938129425, 0.028662383556365967, -0.00026541369152255356, 0.03734096884727478, -0.00868167169392109, 0.003047861158847809, -0.027168231084942818, -0.038508836179971695, -0.0612388513982296, -0.00200842902995646, -0.012208034284412861, -0.086719810962677, 0.003753610886633396, -0.017770709469914436, 0.008324802853167057, -0.01691674441099167, 0.07024039328098297, 0.03322342038154602, 0.04343132674694061, 0.01470169611275196, -0.12554693222045898, 0.015086650848388672, -0.054316457360982895, -0.0017915026983246207, 0.04996009171009064, -0.015378618612885475, 0.033268313854932785, -0.030770866200327873, -0.01838965341448784, 0.009458004496991634, -0.04602914676070213, -0.0020387296099215746, 0.026242833584547043, -0.05007889121770859, 0.020183581858873367, 0.0608983039855957, -0.020118070766329765, -0.026005355641245842, 0.010592548176646233, -0.033115360885858536, 0.016259538009762764, 0.07778623700141907, -0.0019073182484135032, -0.005628896877169609, 0.014371631667017937, -0.04068335145711899, -0.05149710923433304, 0.00016621020040474832, -0.0033305359538644552, 0.014468883164227009, 0.0004249016637913883, 0.03044532798230648, -0.018363656476140022, 0.0015119177987799048, 0.029986146837472916, -0.03680025041103363, 0.008356251753866673, -0.033102553337812424, 0.026691146194934845, 0.00547829270362854, -0.018052397295832634, 0.024257758632302284, 0.00572706013917923, -0.059337224811315536, 0.10435844212770462, -0.009879264049232006, -0.01361058745533228, 0.0579998753964901, 0.025010842829942703, 0.028933711349964142, -0.032052118331193924, -0.03402331471443176, -0.03416987136006355, -0.027698200196027756, 0.06470030546188354, 0.015079780481755733, -0.01619253121316433, 0.030326642096042633, -0.02671879343688488, -0.03677744418382645, -0.02278456650674343, -0.05364342778921127, 0.019049977883696556, -0.03425035998225212, 0.013268837705254555, -0.005413179751485586, 0.00749742379412055, -0.0007369764498434961, -0.03085695207118988, 0.03822885826230049, -0.020831111818552017, -0.03431549295783043, 0.005602396558970213, 0.014499940909445286, -0.037636395543813705, -0.051178306341171265, -0.03510751947760582, 0.017186783254146576, 0.015072125941514969, -0.09620266407728195, -0.015354495495557785, 0.015837641432881355, 2.4294092781929066e-07, -0.005888035520911217, 0.07687962800264359, 0.05860631540417671, 0.022123288363218307, -0.023669086396694183, 0.052527397871017456, 0.014866131357848644, 0.00734176067635417, -0.004989236127585173, 0.04374139383435249, -0.012833209708333015, 0.03373420983552933, -0.01108148880302906, -0.013393797911703587, -0.07800640165805817, -0.013633091002702713, 0.019474932923913002, 0.0019174715271219611, -0.030025193467736244, 0.00010272652434650809, 0.09545331448316574, 0.11965399980545044, 0.03733723238110542, 0.004251290578395128, 0.020513007417321205, -0.03854147717356682, -0.019061435014009476, 0.058879315853118896, 0.06812646239995956, -0.03125955909490585, -0.0650440901517868, 0.024804413318634033, 0.00039006644510664046, 0.07547621428966522, -0.03460756689310074, 0.013294948264956474, 0.041400548070669174, 0.030756870284676552, 0.005503545049577951, -0.0015308709116652608, 0.027599358931183815, 0.00646030530333519, 0.010539834387600422, -0.030929846689105034, 0.04602321982383728, -0.036492057144641876, -0.01395400334149599, -0.03537207469344139, 0.0007978098001331091, 0.014063268899917603, 0.018025832250714302, -0.014336848631501198, 0.002192157320678234, -0.039687350392341614, -0.011728240177035332, -0.0445220023393631, 0.008057719096541405, -0.04048619791865349, 0.03561487793922424, 0.05128529667854309, -0.06640386581420898, -0.053259510546922684, 0.008928999304771423, 0.01564239338040352, 0.10211098194122314, 0.00810767151415348, -0.0040386090986430645, 2.023526281219218e-34, -0.01382939051836729, -0.011762404814362526, 0.015100591816008091, 0.08258960396051407, 0.023922858759760857, -0.011037810705602169, 0.003656603628769517, -0.007447855081409216, 0.029455535113811493, 0.003529987530782819, -0.0610421821475029]\n"
     ]
    }
   ],
   "source": [
    "for embedding in embeddings:\n",
    "    print(\"len_embedding : \", len(embedding))\n",
    "    print(\"embedding : \", embedding)"
   ]
  }
 ],
 "metadata": {
  "kernelspec": {
   "display_name": ".venv",
   "language": "python",
   "name": "python3"
  },
  "language_info": {
   "codemirror_mode": {
    "name": "ipython",
    "version": 3
   },
   "file_extension": ".py",
   "mimetype": "text/x-python",
   "name": "python",
   "nbconvert_exporter": "python",
   "pygments_lexer": "ipython3",
   "version": "3.10.12"
  }
 },
 "nbformat": 4,
 "nbformat_minor": 2
}
